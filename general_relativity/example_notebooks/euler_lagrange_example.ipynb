{
 "cells": [
  {
   "cell_type": "code",
   "execution_count": 1,
   "id": "5b19e0ba",
   "metadata": {},
   "outputs": [],
   "source": [
    "import sympy as sym"
   ]
  },
  {
   "cell_type": "code",
   "execution_count": 2,
   "id": "3fe34b67",
   "metadata": {},
   "outputs": [],
   "source": [
    "def create_variables_and_differentials(variables_string, parameter_var_string=None):\n",
    "    q = sym.symbols(variables_string) # tuple\n",
    "    if parameter_var_string is None:\n",
    "        q = sym.Matrix(q)\n",
    "        dq = sym.Matrix(\n",
    "            [sym.symbols(f'd{q[i].name}') for i in range(len(q))]\n",
    "        )\n",
    "    else:\n",
    "        if parameter_var_string == '':\n",
    "            raise ValueError(\n",
    "                f'{parameter_var_string} -- parameter_var_string, cannot be an empty string, use None!'\n",
    "            )\n",
    "        param_var = sym.symbols(parameter_var_string)\n",
    "        q = sym.Matrix(\n",
    "            [sym.Function(e.name)(param_var) for e in q]\n",
    "        )\n",
    "        dq = sym.diff(q, param_var)\n",
    "    return q, dq"
   ]
  },
  {
   "cell_type": "code",
   "execution_count": 3,
   "id": "830e2736",
   "metadata": {},
   "outputs": [
    {
     "name": "stdout",
     "output_type": "stream",
     "text": [
      "True -- line element to metric tensor, and metric tensor to line element are inverse methods.\n"
     ]
    }
   ],
   "source": [
    "def line_element_to_metric_tensor(ds_sqrd, dq):\n",
    "    n = len(dq)\n",
    "    dq_dq_permutations = sym.tensorproduct(dq, dq).reshape(n ** 2, 1)\n",
    "    # must expand so coeff method will work properly!\n",
    "    g = sym.Matrix(\n",
    "        [sym.expand(ds_sqrd).coeff(e[0], 1) for e in dq_dq_permutations]\n",
    "    )\n",
    "    return g.reshape(n, n)\n",
    "\n",
    "\n",
    "def metric_tensor_to_line_element(g, dq):\n",
    "    return sym.expand(sym.Mul(sym.Mul(dq.T, g), dq)[0])\n",
    "\n",
    "\n",
    "### test the two functions are inverses of each other\n",
    "def test_line_elem_metric_inverses():\n",
    "    bools = []\n",
    "    \n",
    "    # create variables and dq\n",
    "    c, dt, dx, dy, dz = sym.symbols('c dt dx dy dz')\n",
    "    dq = sym.Matrix([dt, dx, dy, dz])\n",
    "    \n",
    "    # forward direction\n",
    "    line_element = sym.expand(-c ** 2 * dt ** 2 + dx ** 2 + dy ** 2 + dz ** 2)\n",
    "    g = line_element_to_metric_tensor(line_element, dq)\n",
    "    bools.append(\n",
    "        sym.Equality(line_element, metric_tensor_to_line_element(g, dq))\n",
    "    )\n",
    "    # backward direction\n",
    "    g = sym.Matrix(\n",
    "        [\n",
    "            [-c ** 2, 0, 0, 0],\n",
    "            [0, 1, 0, 0],\n",
    "            [0, 0, 1, 0],\n",
    "            [0, 0, 0, 1]\n",
    "        ]\n",
    "    )\n",
    "    line_element = metric_tensor_to_line_element(g, dq)\n",
    "    bools.append(\n",
    "        sym.Equality(g, line_element_to_metric_tensor(line_element, dq))\n",
    "    )\n",
    "    return all(bools)\n",
    "\n",
    "\n",
    "print(\n",
    "    f'{test_line_elem_metric_inverses()} -- '\n",
    "    'line element to metric tensor, and metric tensor to line element are inverse methods.'\n",
    ")"
   ]
  },
  {
   "cell_type": "code",
   "execution_count": 8,
   "id": "d691beaa",
   "metadata": {},
   "outputs": [
    {
     "data": {
      "text/latex": [
       "$\\displaystyle \\left[\\begin{matrix}\\frac{d}{d \\sigma} t{\\left(\\sigma \\right)}\\\\\\frac{d}{d \\sigma} r{\\left(\\sigma \\right)}\\\\\\frac{d}{d \\sigma} \\theta{\\left(\\sigma \\right)}\\\\\\frac{d}{d \\sigma} \\phi{\\left(\\sigma \\right)}\\end{matrix}\\right]$"
      ],
      "text/plain": [
       "Matrix([\n",
       "[    Derivative(t(sigma), sigma)],\n",
       "[    Derivative(r(sigma), sigma)],\n",
       "[Derivative(theta(sigma), sigma)],\n",
       "[  Derivative(phi(sigma), sigma)]])"
      ]
     },
     "execution_count": 8,
     "metadata": {},
     "output_type": "execute_result"
    }
   ],
   "source": [
    "q, dq = create_variables_and_differentials('t, r, theta, phi', parameter_var_string='sigma')\n",
    "m, sigma = sym.symbols('m sigma')\n",
    "dq"
   ]
  },
  {
   "cell_type": "code",
   "execution_count": 5,
   "id": "496d9671",
   "metadata": {},
   "outputs": [
    {
     "data": {
      "text/latex": [
       "$\\displaystyle \\left[\\begin{matrix}t{\\left(\\sigma \\right)}\\\\r{\\left(\\sigma \\right)}\\\\\\theta{\\left(\\sigma \\right)}\\\\\\phi{\\left(\\sigma \\right)}\\end{matrix}\\right]$"
      ],
      "text/plain": [
       "Matrix([\n",
       "[    t(sigma)],\n",
       "[    r(sigma)],\n",
       "[theta(sigma)],\n",
       "[  phi(sigma)]])"
      ]
     },
     "execution_count": 5,
     "metadata": {},
     "output_type": "execute_result"
    }
   ],
   "source": [
    "q"
   ]
  },
  {
   "cell_type": "code",
   "execution_count": 6,
   "id": "a3529bd1",
   "metadata": {},
   "outputs": [
    {
     "data": {
      "text/latex": [
       "$\\displaystyle \\left(- \\frac{2 m}{r{\\left(\\sigma \\right)}} + 1\\right) \\left(\\frac{d}{d \\sigma} t{\\left(\\sigma \\right)}\\right)^{2} - \\left(\\sin^{2}{\\left(\\theta{\\left(\\sigma \\right)} \\right)} \\left(\\frac{d}{d \\sigma} \\phi{\\left(\\sigma \\right)}\\right)^{2} + \\left(\\frac{d}{d \\sigma} \\theta{\\left(\\sigma \\right)}\\right)^{2}\\right) r^{2}{\\left(\\sigma \\right)} - \\frac{\\left(\\frac{d}{d \\sigma} r{\\left(\\sigma \\right)}\\right)^{2}}{- \\frac{2 m}{r{\\left(\\sigma \\right)}} + 1}$"
      ],
      "text/plain": [
       "(-2*m/r(sigma) + 1)*Derivative(t(sigma), sigma)**2 - (sin(theta(sigma))**2*Derivative(phi(sigma), sigma)**2 + Derivative(theta(sigma), sigma)**2)*r(sigma)**2 - Derivative(r(sigma), sigma)**2/(-2*m/r(sigma) + 1)"
      ]
     },
     "execution_count": 6,
     "metadata": {},
     "output_type": "execute_result"
    }
   ],
   "source": [
    "Lagrangian = (\n",
    "    (1 - ((2 * m) / q[1])) * dq[0] ** 2 \n",
    "    - (1 / (1 - ((2 * m) / q[1]))) * dq[1] ** 2 \n",
    "    - (q[1] ** 2) * (dq[2] ** 2 + sym.sin(q[2]) ** 2 * dq[3] ** 2)\n",
    ")\n",
    "Lagrangian"
   ]
  },
  {
   "cell_type": "code",
   "execution_count": 9,
   "id": "7482252b",
   "metadata": {},
   "outputs": [
    {
     "data": {
      "text/latex": [
       "$\\displaystyle \\left[\\begin{matrix}- \\frac{4 m \\frac{d}{d \\sigma} r{\\left(\\sigma \\right)} \\frac{d}{d \\sigma} t{\\left(\\sigma \\right)}}{r^{2}{\\left(\\sigma \\right)}} - \\left(- \\frac{4 m}{r{\\left(\\sigma \\right)}} + 2\\right) \\frac{d^{2}}{d \\sigma^{2}} t{\\left(\\sigma \\right)}\\\\\\frac{2 m \\left(\\frac{d}{d \\sigma} t{\\left(\\sigma \\right)}\\right)^{2}}{r^{2}{\\left(\\sigma \\right)}} - \\frac{2 m \\left(\\frac{d}{d \\sigma} r{\\left(\\sigma \\right)}\\right)^{2}}{\\left(- \\frac{2 m}{r{\\left(\\sigma \\right)}} + 1\\right)^{2} r^{2}{\\left(\\sigma \\right)}} - 2 \\left(\\sin^{2}{\\left(\\theta{\\left(\\sigma \\right)} \\right)} \\left(\\frac{d}{d \\sigma} \\phi{\\left(\\sigma \\right)}\\right)^{2} + \\left(\\frac{d}{d \\sigma} \\theta{\\left(\\sigma \\right)}\\right)^{2}\\right) r{\\left(\\sigma \\right)} + \\frac{2 \\frac{d^{2}}{d \\sigma^{2}} r{\\left(\\sigma \\right)}}{- \\frac{2 m}{r{\\left(\\sigma \\right)}} + 1}\\\\- 2 r^{2}{\\left(\\sigma \\right)} \\sin{\\left(\\theta{\\left(\\sigma \\right)} \\right)} \\cos{\\left(\\theta{\\left(\\sigma \\right)} \\right)} \\left(\\frac{d}{d \\sigma} \\phi{\\left(\\sigma \\right)}\\right)^{2} + 2 r^{2}{\\left(\\sigma \\right)} \\frac{d^{2}}{d \\sigma^{2}} \\theta{\\left(\\sigma \\right)} + 4 r{\\left(\\sigma \\right)} \\frac{d}{d \\sigma} r{\\left(\\sigma \\right)} \\frac{d}{d \\sigma} \\theta{\\left(\\sigma \\right)}\\\\2 r^{2}{\\left(\\sigma \\right)} \\sin^{2}{\\left(\\theta{\\left(\\sigma \\right)} \\right)} \\frac{d^{2}}{d \\sigma^{2}} \\phi{\\left(\\sigma \\right)} + 4 r^{2}{\\left(\\sigma \\right)} \\sin{\\left(\\theta{\\left(\\sigma \\right)} \\right)} \\cos{\\left(\\theta{\\left(\\sigma \\right)} \\right)} \\frac{d}{d \\sigma} \\phi{\\left(\\sigma \\right)} \\frac{d}{d \\sigma} \\theta{\\left(\\sigma \\right)} + 4 r{\\left(\\sigma \\right)} \\sin^{2}{\\left(\\theta{\\left(\\sigma \\right)} \\right)} \\frac{d}{d \\sigma} \\phi{\\left(\\sigma \\right)} \\frac{d}{d \\sigma} r{\\left(\\sigma \\right)}\\end{matrix}\\right]$"
      ],
      "text/plain": [
       "Matrix([\n",
       "[                                                                                                                                                            -4*m*Derivative(r(sigma), sigma)*Derivative(t(sigma), sigma)/r(sigma)**2 - (-4*m/r(sigma) + 2)*Derivative(t(sigma), (sigma, 2))],\n",
       "[2*m*Derivative(t(sigma), sigma)**2/r(sigma)**2 - 2*m*Derivative(r(sigma), sigma)**2/((-2*m/r(sigma) + 1)**2*r(sigma)**2) - 2*(sin(theta(sigma))**2*Derivative(phi(sigma), sigma)**2 + Derivative(theta(sigma), sigma)**2)*r(sigma) + 2*Derivative(r(sigma), (sigma, 2))/(-2*m/r(sigma) + 1)],\n",
       "[                                                                          -2*r(sigma)**2*sin(theta(sigma))*cos(theta(sigma))*Derivative(phi(sigma), sigma)**2 + 2*r(sigma)**2*Derivative(theta(sigma), (sigma, 2)) + 4*r(sigma)*Derivative(r(sigma), sigma)*Derivative(theta(sigma), sigma)],\n",
       "[        2*r(sigma)**2*sin(theta(sigma))**2*Derivative(phi(sigma), (sigma, 2)) + 4*r(sigma)**2*sin(theta(sigma))*cos(theta(sigma))*Derivative(phi(sigma), sigma)*Derivative(theta(sigma), sigma) + 4*r(sigma)*sin(theta(sigma))**2*Derivative(phi(sigma), sigma)*Derivative(r(sigma), sigma)]])"
      ]
     },
     "execution_count": 9,
     "metadata": {},
     "output_type": "execute_result"
    }
   ],
   "source": [
    "euler_lagrange = sym.Matrix(\n",
    "    [sym.diff(Lagrangian, q[i]) - sym.diff(sym.diff(Lagrangian, dq[i]), sigma)\n",
    "     for i in range(len(q))]\n",
    ")\n",
    "euler_lagrange"
   ]
  },
  {
   "cell_type": "code",
   "execution_count": null,
   "id": "63ceba4b",
   "metadata": {},
   "outputs": [],
   "source": []
  }
 ],
 "metadata": {
  "kernelspec": {
   "display_name": "Python 3 (ipykernel)",
   "language": "python",
   "name": "python3"
  },
  "language_info": {
   "codemirror_mode": {
    "name": "ipython",
    "version": 3
   },
   "file_extension": ".py",
   "mimetype": "text/x-python",
   "name": "python",
   "nbconvert_exporter": "python",
   "pygments_lexer": "ipython3",
   "version": "3.8.12"
  }
 },
 "nbformat": 4,
 "nbformat_minor": 5
}
