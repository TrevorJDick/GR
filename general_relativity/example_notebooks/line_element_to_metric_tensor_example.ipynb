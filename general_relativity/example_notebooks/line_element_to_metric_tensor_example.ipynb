{
 "cells": [
  {
   "cell_type": "code",
   "execution_count": 2,
   "id": "ea0cebe7",
   "metadata": {},
   "outputs": [],
   "source": [
    "import sympy as sym"
   ]
  },
  {
   "cell_type": "code",
   "execution_count": 3,
   "id": "bef0dd27",
   "metadata": {},
   "outputs": [],
   "source": [
    "# helper functions to be moved later to own module\n",
    "def create_variables_and_differentials(variables_string, parameter_var_string=None):\n",
    "    q = sym.symbols(variables_string) # tuple\n",
    "    if parameter_var_string is None:\n",
    "        q = sym.Matrix(q)\n",
    "        dq = sym.Matrix(\n",
    "            [sym.symbols(f'd{q[i].name}') for i in range(len(q))]\n",
    "        )\n",
    "    else:\n",
    "        if parameter_var_string == '':\n",
    "            raise ValueError(\n",
    "                f'{parameter_var_string} -- parameter_var_string, cannot be an empty string, use None!'\n",
    "            )\n",
    "        param_var = sym.symbols(parameter_var_string)\n",
    "        q = sym.Matrix(\n",
    "            [sym.Function(e.name)(param_var) for e in q]\n",
    "        )\n",
    "        dq = sym.diff(q, param_var)\n",
    "    return q, dq"
   ]
  },
  {
   "cell_type": "code",
   "execution_count": 4,
   "id": "6cd427f5",
   "metadata": {},
   "outputs": [
    {
     "name": "stdout",
     "output_type": "stream",
     "text": [
      "True -- line element to metric tensor, and metric tensor to line element are inverse methods.\n"
     ]
    }
   ],
   "source": [
    "def line_element_to_metric_tensor(ds_sqrd, dq):\n",
    "    n = len(dq)\n",
    "    dq_dq_permutations = sym.tensorproduct(dq, dq).reshape(n ** 2, 1)\n",
    "    # must expand so coeff method will work properly!\n",
    "    g = sym.Matrix(\n",
    "        [sym.expand(ds_sqrd).coeff(e[0], 1) for e in dq_dq_permutations]\n",
    "    )\n",
    "    return g.reshape(n, n)\n",
    "\n",
    "\n",
    "def metric_tensor_to_line_element(g, dq):\n",
    "    return sym.expand(sym.Mul(sym.Mul(dq.T, g), dq)[0])\n",
    "\n",
    "\n",
    "### test the two functions are inverses of each other\n",
    "def test_line_elem_metric_inverses():\n",
    "    bools = []\n",
    "    \n",
    "    # create variables and dq\n",
    "    c, dt, dx, dy, dz = sym.symbols('c dt dx dy dz')\n",
    "    dq = sym.Matrix([dt, dx, dy, dz])\n",
    "    \n",
    "    # forward direction\n",
    "    line_element = sym.expand(-c ** 2 * dt ** 2 + dx ** 2 + dy ** 2 + dz ** 2)\n",
    "    g = line_element_to_metric_tensor(line_element, dq)\n",
    "    bools.append(\n",
    "        sym.Equality(line_element, metric_tensor_to_line_element(g, dq))\n",
    "    )\n",
    "    # backward direction\n",
    "    g = sym.Matrix(\n",
    "        [\n",
    "            [-c ** 2, 0, 0, 0],\n",
    "            [0, 1, 0, 0],\n",
    "            [0, 0, 1, 0],\n",
    "            [0, 0, 0, 1]\n",
    "        ]\n",
    "    )\n",
    "    line_element = metric_tensor_to_line_element(g, dq)\n",
    "    bools.append(\n",
    "        sym.Equality(g, line_element_to_metric_tensor(line_element, dq))\n",
    "    )\n",
    "    return all(bools)\n",
    "\n",
    "\n",
    "print(\n",
    "    f'{test_line_elem_metric_inverses()} -- '\n",
    "    'line element to metric tensor, and metric tensor to line element are inverse methods.'\n",
    ")"
   ]
  },
  {
   "cell_type": "code",
   "execution_count": 5,
   "id": "81d898b6",
   "metadata": {},
   "outputs": [
    {
     "data": {
      "text/latex": [
       "$\\displaystyle \\left[\\begin{matrix}dt\\\\dr\\\\dtheta\\\\dphi\\end{matrix}\\right]$"
      ],
      "text/plain": [
       "Matrix([\n",
       "[    dt],\n",
       "[    dr],\n",
       "[dtheta],\n",
       "[  dphi]])"
      ]
     },
     "execution_count": 5,
     "metadata": {},
     "output_type": "execute_result"
    }
   ],
   "source": [
    "q, dq = create_variables_and_differentials('t, r, theta, phi', parameter_var_string=None)\n",
    "m = sym.symbols('m')\n",
    "dq"
   ]
  },
  {
   "cell_type": "code",
   "execution_count": 9,
   "id": "aaf93b3a",
   "metadata": {},
   "outputs": [
    {
     "data": {
      "text/latex": [
       "$\\displaystyle \\left[\\begin{matrix}t\\\\r\\\\\\theta\\\\\\phi\\end{matrix}\\right]$"
      ],
      "text/plain": [
       "Matrix([\n",
       "[    t],\n",
       "[    r],\n",
       "[theta],\n",
       "[  phi]])"
      ]
     },
     "execution_count": 9,
     "metadata": {},
     "output_type": "execute_result"
    }
   ],
   "source": [
    "q"
   ]
  },
  {
   "cell_type": "code",
   "execution_count": 10,
   "id": "6b96f6cb",
   "metadata": {},
   "outputs": [
    {
     "data": {
      "text/latex": [
       "$\\displaystyle - \\frac{dr^{2}}{- \\frac{2 m}{r} + 1} + dt^{2} \\left(- \\frac{2 m}{r} + 1\\right) - r^{2} \\left(dphi^{2} \\sin^{2}{\\left(\\theta \\right)} + dtheta^{2}\\right)$"
      ],
      "text/plain": [
       "-dr**2/(-2*m/r + 1) + dt**2*(-2*m/r + 1) - r**2*(dphi**2*sin(theta)**2 + dtheta**2)"
      ]
     },
     "execution_count": 10,
     "metadata": {},
     "output_type": "execute_result"
    }
   ],
   "source": [
    "line_element = (\n",
    "    (1 - 2 * m / q[1]) * dq[0] ** 2 \n",
    "    - (1 - 2 * m / q[1]) ** -1 * dq[1] ** 2 \n",
    "    - q[1] ** 2 * (dq[2] ** 2 + sym.sin(q[2]) ** 2 * dq[3] ** 2)\n",
    ")\n",
    "line_element"
   ]
  },
  {
   "cell_type": "code",
   "execution_count": 7,
   "id": "1c51c8d7",
   "metadata": {},
   "outputs": [
    {
     "data": {
      "text/latex": [
       "$\\displaystyle \\left[\\begin{matrix}- \\frac{2 m}{r} + 1 & 0 & 0 & 0\\\\0 & - \\frac{1}{- \\frac{2 m}{r} + 1} & 0 & 0\\\\0 & 0 & - r^{2} & 0\\\\0 & 0 & 0 & - r^{2} \\sin^{2}{\\left(\\theta \\right)}\\end{matrix}\\right]$"
      ],
      "text/plain": [
       "Matrix([\n",
       "[-2*m/r + 1,               0,     0,                   0],\n",
       "[         0, -1/(-2*m/r + 1),     0,                   0],\n",
       "[         0,               0, -r**2,                   0],\n",
       "[         0,               0,     0, -r**2*sin(theta)**2]])"
      ]
     },
     "execution_count": 7,
     "metadata": {},
     "output_type": "execute_result"
    }
   ],
   "source": [
    "g = line_element_to_metric_tensor(line_element, dq)\n",
    "g"
   ]
  },
  {
   "cell_type": "code",
   "execution_count": 8,
   "id": "97962c96",
   "metadata": {},
   "outputs": [
    {
     "data": {
      "text/latex": [
       "$\\displaystyle - \\frac{2 m}{r} + 1$"
      ],
      "text/plain": [
       "-2*m/r + 1"
      ]
     },
     "execution_count": 8,
     "metadata": {},
     "output_type": "execute_result"
    }
   ],
   "source": [
    "g[0,0]"
   ]
  },
  {
   "cell_type": "code",
   "execution_count": null,
   "id": "d1da5ad3",
   "metadata": {},
   "outputs": [],
   "source": []
  }
 ],
 "metadata": {
  "kernelspec": {
   "display_name": "Python 3 (ipykernel)",
   "language": "python",
   "name": "python3"
  },
  "language_info": {
   "codemirror_mode": {
    "name": "ipython",
    "version": 3
   },
   "file_extension": ".py",
   "mimetype": "text/x-python",
   "name": "python",
   "nbconvert_exporter": "python",
   "pygments_lexer": "ipython3",
   "version": "3.8.12"
  }
 },
 "nbformat": 4,
 "nbformat_minor": 5
}
