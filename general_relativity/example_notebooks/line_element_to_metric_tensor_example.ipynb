{
 "cells": [
  {
   "cell_type": "code",
   "execution_count": 1,
   "id": "ea0cebe7",
   "metadata": {},
   "outputs": [],
   "source": [
    "import timeit\n",
    "\n",
    "import numpy as np\n",
    "import sympy as sym"
   ]
  },
  {
   "cell_type": "code",
   "execution_count": 2,
   "id": "bef0dd27",
   "metadata": {},
   "outputs": [],
   "source": [
    "# helper functions to be moved later to own module\n",
    "def create_variables_and_differentials(variables_string, parameter_var_string=None):\n",
    "    q = sym.symbols(variables_string) # tuple\n",
    "    if parameter_var_string is None:\n",
    "        q = sym.Matrix(q)\n",
    "        dq = sym.Matrix(\n",
    "            [sym.symbols(f'd{q[i].name}') for i in range(len(q))]\n",
    "        )\n",
    "    else:\n",
    "        if parameter_var_string == '':\n",
    "            raise ValueError(\n",
    "                f'{parameter_var_string} -- parameter_var_string, cannot be an empty string, use None!'\n",
    "            )\n",
    "        param_var = sym.symbols(parameter_var_string)\n",
    "        q = sym.Matrix(\n",
    "            [sym.Function(e.name)(param_var) for e in q]\n",
    "        )\n",
    "        dq = sym.diff(q, param_var)\n",
    "    return q, dq"
   ]
  },
  {
   "cell_type": "code",
   "execution_count": 3,
   "id": "6cd427f5",
   "metadata": {},
   "outputs": [
    {
     "name": "stdout",
     "output_type": "stream",
     "text": [
      "True -- line element to metric tensor, and metric tensor to line element are inverse methods.\n"
     ]
    }
   ],
   "source": [
    "def line_element_to_metric_tensor(ds_sqrd, dq):\n",
    "    n = len(dq)\n",
    "    dq_dq_permutations = sym.tensorproduct(dq, dq).reshape(n ** 2, 1)\n",
    "    # must expand so coeff method will work properly!\n",
    "    g = sym.Matrix(\n",
    "        [sym.expand(ds_sqrd).coeff(e[0], 1) for e in dq_dq_permutations]\n",
    "    )\n",
    "    g = g.reshape(n, n)\n",
    "    diag_g = sym.Matrix(np.diag(np.diag(g)))\n",
    "    g = (g + diag_g) / 2\n",
    "    return g\n",
    "\n",
    "\n",
    "def metric_tensor_to_line_element(g, dq):\n",
    "    return sym.expand(np.dot(np.dot(dq.T, g), dq).flatten()[0])\n",
    "\n",
    "\n",
    "### test the two functions are inverses of each other\n",
    "def test_line_elem_metric_inverses():\n",
    "    bools = []\n",
    "    \n",
    "    # create variables and dq\n",
    "    c, dt, dx, dy, dz = sym.symbols('c dt dx dy dz')\n",
    "    dq = sym.Matrix([dt, dx, dy, dz])\n",
    "    \n",
    "    # forward direction\n",
    "    line_element = sym.expand(-c ** 2 * dt ** 2 + dx ** 2 + dy ** 2 + dz ** 2 + 2 * dt * dz)\n",
    "    g = line_element_to_metric_tensor(line_element, dq)\n",
    "    bools.append(\n",
    "        sym.Equality(line_element, metric_tensor_to_line_element(g, dq))\n",
    "    )\n",
    "    # backward direction, choosing a different metric tensor that is not symmetric\n",
    "    g = sym.Matrix(\n",
    "        [\n",
    "            [-c ** 2, 0, 0, 2],\n",
    "            [0, 1, 0, 0],\n",
    "            [0, 0, 1, 0],\n",
    "            [0, 0, 0, 1]\n",
    "        ]\n",
    "    )\n",
    "    g = (g + g.T) / 2 # make symmetric\n",
    "    line_element = metric_tensor_to_line_element(g, dq)\n",
    "    bools.append(\n",
    "        sym.Equality(g, line_element_to_metric_tensor(line_element, dq))\n",
    "    )\n",
    "    return all(bools)\n",
    "\n",
    "\n",
    "print(\n",
    "    f'{test_line_elem_metric_inverses()} -- '\n",
    "    'line element to metric tensor, and metric tensor to line element are inverse methods.'\n",
    ")"
   ]
  },
  {
   "cell_type": "code",
   "execution_count": 4,
   "id": "8a550d7b",
   "metadata": {},
   "outputs": [],
   "source": [
    "def symbolic_to_numpy_func(symbolic_expr_obj, symbolic_variables):\n",
    "    \"\"\"\n",
    "    Converts a symbolic object like a symbol or Matrix into a numpy function\n",
    "    that returns a numpy array of the same shape as that object.\n",
    "\n",
    "    Parameters\n",
    "    ----------\n",
    "    symbolic_expr_obj : sympy expression\n",
    "        A sympy expression, list of expressions, or matrix to be evaluated.\n",
    "    symbolic_variables : list of sympy variables\n",
    "        A variable or a list of variables, represented in the way that\n",
    "        arguments will be passed to the function.\n",
    "        Includes symbols, undefined functions, or matrix symbols.\n",
    "\n",
    "    Returns\n",
    "    -------\n",
    "    function\n",
    "        Function that will return a numpy array of the same shape as the \n",
    "        symbolic_expr_obj.\n",
    "\n",
    "    \"\"\"\n",
    "    return sym.lambdify(symbolic_variables, symbolic_expr_obj, modules='numpy')\n",
    "\n",
    "\n",
    "def symbolic_obj_subs(symbolic_expr_obj, symbolic_variables,\n",
    "                      variable_constants):\n",
    "    \"\"\"\n",
    "    Converts a symbolic object like a symbol or a matrix into a constant\n",
    "    version of that object, where all symbolic_variables listed have been \n",
    "    substituted with thier respective variable_constants\n",
    "\n",
    "    Parameters\n",
    "    ----------\n",
    "    symbolic_expr_obj : sympy expression\n",
    "        A sympy expression, list of expressions, or matrix to be evaluated.\n",
    "    symbolic_variables : list of sympy variables\n",
    "        A variable or a list of variables, represented in the way that\n",
    "        arguments will be passed to the function.\n",
    "        Includes symbols, undefined functions, or matrix symbols.\n",
    "    variable_constants : list of arrays likes\n",
    "        The values that will be used to substitute symbolic_variables.\n",
    "\n",
    "    Returns\n",
    "    -------\n",
    "    symbolic_const_obj : numpy array\n",
    "        numpy array of the sampe shape as the symbolic_expr_obj, now with\n",
    "        all the provided variables substituted with constants.\n",
    "\n",
    "    \"\"\"\n",
    "    symbolic_variables = np.concatenate(symbolic_variables).flatten()\n",
    "    variable_constants = np.concatenate(variable_constants)\n",
    "    subs_map = {\n",
    "        str(k):v \n",
    "        for k, v in zip(symbolic_variables, variable_constants)\n",
    "    }\n",
    "    if isinstance(symbolic_expr_obj, list):\n",
    "        symbolic_const_obj = [o.subs(subs_map) for o in symbolic_expr_obj]\n",
    "    else:\n",
    "        symbolic_const_obj = symbolic_expr_obj.subs(subs_map)\n",
    "    return symbolic_const_obj\n",
    "\n",
    "\n",
    "def symbolic_const_matrix_to_numpy(A):\n",
    "    return np.array(A).astype(float)"
   ]
  },
  {
   "cell_type": "code",
   "execution_count": 5,
   "id": "81d898b6",
   "metadata": {},
   "outputs": [
    {
     "data": {
      "text/latex": [
       "$\\displaystyle \\left[\\begin{matrix}dt\\\\dr\\\\dtheta\\\\dphi\\end{matrix}\\right]$"
      ],
      "text/plain": [
       "Matrix([\n",
       "[    dt],\n",
       "[    dr],\n",
       "[dtheta],\n",
       "[  dphi]])"
      ]
     },
     "execution_count": 5,
     "metadata": {},
     "output_type": "execute_result"
    }
   ],
   "source": [
    "q, dq = create_variables_and_differentials('t, r, theta, phi', parameter_var_string=None)\n",
    "dq"
   ]
  },
  {
   "cell_type": "code",
   "execution_count": 6,
   "id": "aaf93b3a",
   "metadata": {},
   "outputs": [
    {
     "data": {
      "text/latex": [
       "$\\displaystyle \\left[\\begin{matrix}t\\\\r\\\\\\theta\\\\\\phi\\end{matrix}\\right]$"
      ],
      "text/plain": [
       "Matrix([\n",
       "[    t],\n",
       "[    r],\n",
       "[theta],\n",
       "[  phi]])"
      ]
     },
     "execution_count": 6,
     "metadata": {},
     "output_type": "execute_result"
    }
   ],
   "source": [
    "q"
   ]
  },
  {
   "cell_type": "code",
   "execution_count": 7,
   "id": "59a804c7",
   "metadata": {},
   "outputs": [
    {
     "data": {
      "text/latex": [
       "$\\displaystyle \\left[\\begin{matrix}M\\end{matrix}\\right]$"
      ],
      "text/plain": [
       "Matrix([[M]])"
      ]
     },
     "execution_count": 7,
     "metadata": {},
     "output_type": "execute_result"
    }
   ],
   "source": [
    "# params = sym.Matrix(sym.symbols('M a'))\n",
    "params = sym.Matrix([sym.symbols('M')])\n",
    "### TODO when there is only one param need to change how this is constructed\n",
    "params"
   ]
  },
  {
   "cell_type": "code",
   "execution_count": 8,
   "id": "6b96f6cb",
   "metadata": {},
   "outputs": [
    {
     "data": {
      "text/latex": [
       "$\\displaystyle - \\frac{dr^{2}}{- \\frac{2 M}{r} + 1} + dt^{2} \\left(- \\frac{2 M}{r} + 1\\right) - r^{2} \\left(dphi^{2} \\sin^{2}{\\left(\\theta \\right)} + dtheta^{2}\\right)$"
      ],
      "text/plain": [
       "-dr**2/(-2*M/r + 1) + dt**2*(-2*M/r + 1) - r**2*(dphi**2*sin(theta)**2 + dtheta**2)"
      ]
     },
     "execution_count": 8,
     "metadata": {},
     "output_type": "execute_result"
    }
   ],
   "source": [
    "# schwarzchild\n",
    "line_element = (\n",
    "    (1 - 2 * params[0] / q[1]) * dq[0] ** 2 \n",
    "    - (1 - 2 * params[0] / q[1]) ** -1 * dq[1] ** 2 \n",
    "    - q[1] ** 2 * (dq[2] ** 2 + sym.sin(q[2]) ** 2 * dq[3] ** 2)\n",
    ")\n",
    "# kerr\n",
    "# rs = 2 * params[0]\n",
    "# rho_sqrd = q[1] ** 2 + params[1] ** 2 * sym.cos(q[2]) ** 2\n",
    "# delta = q[1] ** 2 - rs * q[1] + params[1] ** 2\n",
    "# line_element = (\n",
    "#     -(1 - ((rs * q[1]) / rho_sqrd)) * dq[0] ** 2\n",
    "#     + rho_sqrd / delta * dq[1] ** 2\n",
    "#     + rho_sqrd * dq[2] ** 2\n",
    "#     + (q[1] ** 2 + params[1] ** 2 + ((rs * q[1] * params[1] ** 2) / rho_sqrd) * sym.sin(q[2]) ** 2) * dq[3] ** 2\n",
    "#     - (2 * rs * q[1] * params[1] * sym.sin(q[2]) ** 2) / rho_sqrd * dq[0] * dq[3]\n",
    "# )\n",
    "\n",
    "line_element"
   ]
  },
  {
   "cell_type": "code",
   "execution_count": 9,
   "id": "1c51c8d7",
   "metadata": {},
   "outputs": [
    {
     "data": {
      "text/latex": [
       "$\\displaystyle \\left[\\begin{matrix}\\frac{2 M}{r} - 1 & 0 & 0 & 0\\\\0 & \\frac{1}{- \\frac{2 M}{r} + 1} & 0 & 0\\\\0 & 0 & r^{2} & 0\\\\0 & 0 & 0 & r^{2} \\sin^{2}{\\left(\\theta \\right)}\\end{matrix}\\right]$"
      ],
      "text/plain": [
       "Matrix([\n",
       "[2*M/r - 1,              0,    0,                  0],\n",
       "[        0, 1/(-2*M/r + 1),    0,                  0],\n",
       "[        0,              0, r**2,                  0],\n",
       "[        0,              0,    0, r**2*sin(theta)**2]])"
      ]
     },
     "execution_count": 9,
     "metadata": {},
     "output_type": "execute_result"
    }
   ],
   "source": [
    "g_sym = line_element_to_metric_tensor(line_element, dq)\n",
    "g_sym = -g_sym\n",
    "g_sym\n",
    "### note if signature has changed, need to multiply by -1 to correct if so"
   ]
  },
  {
   "cell_type": "code",
   "execution_count": 10,
   "id": "e3b0f460",
   "metadata": {},
   "outputs": [],
   "source": [
    "# %timeit sym.Matrix(np.diag(np.diag(g))) # fastest to use numpy\n",
    "# 97.6 µs ± 566 ns"
   ]
  },
  {
   "cell_type": "code",
   "execution_count": 11,
   "id": "b4899d13",
   "metadata": {},
   "outputs": [],
   "source": [
    "# %timeit sym.diag(*np.diag(g))\n",
    "# 152 µs ± 694 ns"
   ]
  },
  {
   "cell_type": "code",
   "execution_count": 12,
   "id": "ad3a2243",
   "metadata": {},
   "outputs": [],
   "source": [
    "# %timeit g.upper_triangular()\n",
    "# 141 µs ± 400 ns"
   ]
  },
  {
   "cell_type": "code",
   "execution_count": 13,
   "id": "95b96ff4",
   "metadata": {},
   "outputs": [],
   "source": [
    "# %timeit (g + sym.Matrix(np.diag(np.diag(g)))) / 2\n",
    "# 191 µs ± 1.09 µs"
   ]
  },
  {
   "cell_type": "code",
   "execution_count": 14,
   "id": "46ea2b8e",
   "metadata": {},
   "outputs": [],
   "source": [
    "params_const = np.array([1,])\n",
    "q0 = np.array([0, 40, np.pi / 2, 0])\n",
    "# q0 = [0, 20, np.pi / 2, 0]"
   ]
  },
  {
   "cell_type": "code",
   "execution_count": 15,
   "id": "c5a40228",
   "metadata": {},
   "outputs": [
    {
     "data": {
      "text/latex": [
       "$\\displaystyle \\left[\\begin{matrix}p_{0}\\\\0\\\\0\\\\3.83405\\end{matrix}\\right]$"
      ],
      "text/plain": [
       "Matrix([\n",
       "[    p_0],\n",
       "[      0],\n",
       "[      0],\n",
       "[3.83405]])"
      ]
     },
     "execution_count": 15,
     "metadata": {},
     "output_type": "execute_result"
    }
   ],
   "source": [
    "p0 = sym.Matrix([sym.symbols('p_0'), 0, 0, 3.83405])\n",
    "# p0 = sym.Matrix([sym.symbols('p_0'), 0, 3.8, 3])\n",
    "p0"
   ]
  },
  {
   "cell_type": "code",
   "execution_count": 35,
   "id": "c4599d69",
   "metadata": {},
   "outputs": [
    {
     "data": {
      "text/latex": [
       "$\\displaystyle \\left[\\begin{matrix}\\frac{1}{\\frac{2 M}{r} - 1} & 0 & 0 & 0\\\\0 & - \\frac{2 M}{r} + 1 & 0 & 0\\\\0 & 0 & \\frac{1}{r^{2}} & 0\\\\0 & 0 & 0 & \\frac{1}{r^{2} \\sin^{2}{\\left(\\theta \\right)}}\\end{matrix}\\right]$"
      ],
      "text/plain": [
       "Matrix([\n",
       "[1/(2*M/r - 1),          0,       0,                      0],\n",
       "[            0, -2*M/r + 1,       0,                      0],\n",
       "[            0,          0, r**(-2),                      0],\n",
       "[            0,          0,       0, 1/(r**2*sin(theta)**2)]])"
      ]
     },
     "execution_count": 35,
     "metadata": {},
     "output_type": "execute_result"
    }
   ],
   "source": [
    "g_sym_inv = g_sym.inv()\n",
    "g_sym_inv"
   ]
  },
  {
   "cell_type": "code",
   "execution_count": 36,
   "id": "d9ff19b6",
   "metadata": {},
   "outputs": [
    {
     "data": {
      "text/latex": [
       "$\\displaystyle \\left[\\begin{matrix}-1.05263157894737 & 0 & 0 & 0\\\\0 & 0.95 & 0 & 0\\\\0 & 0 & 0.000625 & 0\\\\0 & 0 & 0 & 0.000625\\end{matrix}\\right]$"
      ],
      "text/plain": [
       "Matrix([\n",
       "[-1.05263157894737,    0,        0,        0],\n",
       "[                0, 0.95,        0,        0],\n",
       "[                0,    0, 0.000625,        0],\n",
       "[                0,    0,        0, 0.000625]])"
      ]
     },
     "execution_count": 36,
     "metadata": {},
     "output_type": "execute_result"
    }
   ],
   "source": [
    "g_sym_inv_0 = symbolic_obj_subs(g_sym_inv, [params, q], [params_const, q0])\n",
    "\n",
    "g_sym_inv_0"
   ]
  },
  {
   "cell_type": "code",
   "execution_count": 29,
   "id": "7b571053",
   "metadata": {},
   "outputs": [],
   "source": [
    "# %timeit np.array(g_sym_inv_0).astype(float)\n",
    "# 62.3 µs ± 249 ns"
   ]
  },
  {
   "cell_type": "code",
   "execution_count": 30,
   "id": "33d08032",
   "metadata": {},
   "outputs": [],
   "source": [
    "# %timeit sym.lambdify((), g_sym_inv_0, modules='numpy')()\n",
    "# 889 µs ± 8.49 µs"
   ]
  },
  {
   "cell_type": "code",
   "execution_count": 31,
   "id": "795df787",
   "metadata": {},
   "outputs": [],
   "source": [
    "# %timeit np.dot(np.dot(p0.T, g_sym_inv_0), p0).flatten()[0] + 1\n",
    "# 224 µs ± 1.03 µs"
   ]
  },
  {
   "cell_type": "code",
   "execution_count": 32,
   "id": "8c3e325a",
   "metadata": {},
   "outputs": [],
   "source": [
    "# %timeit sym.Mul(sym.Mul(p0.T, g_sym_inv_0), p0)[0] + 1\n",
    "# 689 µs ± 992 ns"
   ]
  },
  {
   "cell_type": "code",
   "execution_count": 37,
   "id": "8d3f7922",
   "metadata": {},
   "outputs": [
    {
     "data": {
      "text/latex": [
       "$\\displaystyle 1.00918746212656 - 1.05263157894737 p_{0}^{2}$"
      ],
      "text/plain": [
       "1.00918746212656 - 1.05263157894737*p_0**2"
      ]
     },
     "execution_count": 37,
     "metadata": {},
     "output_type": "execute_result"
    }
   ],
   "source": [
    "p_0_poly = np.dot(np.dot(p0.T, g_sym_inv_0), p0).flatten()[0] + 1  # add 1 for timelike\n",
    "p_0_poly"
   ]
  },
  {
   "cell_type": "code",
   "execution_count": 38,
   "id": "ab3793a0",
   "metadata": {},
   "outputs": [
    {
     "data": {
      "text/plain": [
       "[-0.979146612627666, 0.979146612627666]"
      ]
     },
     "execution_count": 38,
     "metadata": {},
     "output_type": "execute_result"
    }
   ],
   "source": [
    "sorted(sym.solve(p_0_poly, 'p_0'))"
   ]
  },
  {
   "cell_type": "code",
   "execution_count": 39,
   "id": "3f3267f2",
   "metadata": {},
   "outputs": [
    {
     "data": {
      "text/latex": [
       "$\\displaystyle 1$"
      ],
      "text/plain": [
       "1"
      ]
     },
     "execution_count": 39,
     "metadata": {},
     "output_type": "execute_result"
    }
   ],
   "source": [
    "symbolic_obj_subs(params[0], [sym.Matrix([sym.symbols('M')])], [[1]])"
   ]
  },
  {
   "cell_type": "code",
   "execution_count": 40,
   "id": "da104a8d",
   "metadata": {},
   "outputs": [
    {
     "data": {
      "text/latex": [
       "$\\displaystyle \\left[\\begin{matrix}1\\end{matrix}\\right]$"
      ],
      "text/plain": [
       "Matrix([[1]])"
      ]
     },
     "execution_count": 40,
     "metadata": {},
     "output_type": "execute_result"
    }
   ],
   "source": [
    "symbolic_obj_subs(params, [params], [[1]])"
   ]
  },
  {
   "cell_type": "code",
   "execution_count": 41,
   "id": "f6d37465",
   "metadata": {},
   "outputs": [
    {
     "data": {
      "text/latex": [
       "$\\displaystyle \\left[\\begin{matrix}1\\end{matrix}\\right]$"
      ],
      "text/plain": [
       "Matrix([[1]])"
      ]
     },
     "execution_count": 41,
     "metadata": {},
     "output_type": "execute_result"
    }
   ],
   "source": [
    "symbolic_obj_subs(params, [params], [[1, 0]])"
   ]
  },
  {
   "cell_type": "code",
   "execution_count": 42,
   "id": "f591dbd8",
   "metadata": {},
   "outputs": [
    {
     "data": {
      "text/latex": [
       "$\\displaystyle \\left[\\begin{matrix}- \\frac{1}{-1 + \\frac{2}{r}} & 0 & 0 & 0\\\\0 & -1 + \\frac{2}{r} & 0 & 0\\\\0 & 0 & - \\frac{1}{r^{2}} & 0\\\\0 & 0 & 0 & - \\frac{1}{r^{2} \\sin^{2}{\\left(\\theta \\right)}}\\end{matrix}\\right]$"
      ],
      "text/plain": [
       "Matrix([\n",
       "[-1/(-1 + 2/r),        0,       0,                       0],\n",
       "[            0, -1 + 2/r,       0,                       0],\n",
       "[            0,        0, -1/r**2,                       0],\n",
       "[            0,        0,       0, -1/(r**2*sin(theta)**2)]])"
      ]
     },
     "execution_count": 42,
     "metadata": {},
     "output_type": "execute_result"
    }
   ],
   "source": [
    "g_sym_inv_part_const = symbolic_obj_subs(\n",
    "    -g_sym_inv,\n",
    "    [params],\n",
    "    [params_const]\n",
    ")\n",
    "g_sym_inv_part_const"
   ]
  },
  {
   "cell_type": "code",
   "execution_count": 43,
   "id": "d9547553",
   "metadata": {},
   "outputs": [
    {
     "data": {
      "text/plain": [
       "<function _lambdifygenerated(t, r, theta, phi)>"
      ]
     },
     "execution_count": 43,
     "metadata": {},
     "output_type": "execute_result"
    }
   ],
   "source": [
    "g_sym_inv_part_const_func = symbolic_to_numpy_func(\n",
    "    g_sym_inv_part_const, \n",
    "    q\n",
    ")\n",
    "g_sym_inv_part_const_func"
   ]
  },
  {
   "cell_type": "code",
   "execution_count": 44,
   "id": "92c153e4",
   "metadata": {},
   "outputs": [
    {
     "data": {
      "text/plain": [
       "array([[ 1.05263158e+00,  0.00000000e+00,  0.00000000e+00,\n",
       "         0.00000000e+00],\n",
       "       [ 0.00000000e+00, -9.50000000e-01,  0.00000000e+00,\n",
       "         0.00000000e+00],\n",
       "       [ 0.00000000e+00,  0.00000000e+00, -6.25000000e-04,\n",
       "         0.00000000e+00],\n",
       "       [ 0.00000000e+00,  0.00000000e+00,  0.00000000e+00,\n",
       "        -6.25000000e-04]])"
      ]
     },
     "execution_count": 44,
     "metadata": {},
     "output_type": "execute_result"
    }
   ],
   "source": [
    "g_sym_inv_part_const_func(*q0)"
   ]
  },
  {
   "cell_type": "code",
   "execution_count": 45,
   "id": "e6291183",
   "metadata": {},
   "outputs": [
    {
     "data": {
      "text/plain": [
       "array([[ 1.05263158e+00,  0.00000000e+00,  0.00000000e+00,\n",
       "         0.00000000e+00],\n",
       "       [ 0.00000000e+00, -9.50000000e-01,  0.00000000e+00,\n",
       "         0.00000000e+00],\n",
       "       [ 0.00000000e+00,  0.00000000e+00, -6.25000000e-04,\n",
       "         0.00000000e+00],\n",
       "       [ 0.00000000e+00,  0.00000000e+00,  0.00000000e+00,\n",
       "        -6.25000000e-04]])"
      ]
     },
     "execution_count": 45,
     "metadata": {},
     "output_type": "execute_result"
    }
   ],
   "source": [
    "g_sym_inv_part_const_func = symbolic_to_numpy_func(\n",
    "    g_sym_inv_part_const, \n",
    "    [q]\n",
    ")\n",
    "g_sym_inv_part_const_func(q0)"
   ]
  }
 ],
 "metadata": {
  "kernelspec": {
   "display_name": "Python 3 (ipykernel)",
   "language": "python",
   "name": "python3"
  },
  "language_info": {
   "codemirror_mode": {
    "name": "ipython",
    "version": 3
   },
   "file_extension": ".py",
   "mimetype": "text/x-python",
   "name": "python",
   "nbconvert_exporter": "python",
   "pygments_lexer": "ipython3",
   "version": "3.8.12"
  }
 },
 "nbformat": 4,
 "nbformat_minor": 5
}
