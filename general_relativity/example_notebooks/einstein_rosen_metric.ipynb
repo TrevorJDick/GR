{
 "cells": [
  {
   "cell_type": "code",
   "execution_count": 1,
   "id": "dfa41d32",
   "metadata": {},
   "outputs": [],
   "source": [
    "import os\n",
    "import sys\n",
    "\n",
    "import numpy as np\n",
    "import sympy as sym"
   ]
  },
  {
   "cell_type": "code",
   "execution_count": 2,
   "id": "d013cfe0",
   "metadata": {},
   "outputs": [],
   "source": [
    "nb_dir = os.path.split(os.getcwd())[0]\n",
    "if nb_dir not in sys.path:\n",
    "    sys.path.append(nb_dir)"
   ]
  },
  {
   "cell_type": "code",
   "execution_count": 3,
   "id": "d5a1cd71",
   "metadata": {},
   "outputs": [],
   "source": [
    "from line_element_to_metric_tensor import line_element_to_metric_tensor\n",
    "from utils.symbolic_variables import create_variables_and_differentials, create_param_variables"
   ]
  },
  {
   "cell_type": "code",
   "execution_count": 14,
   "id": "df5a6944",
   "metadata": {},
   "outputs": [],
   "source": [
    "q, dq = create_variables_and_differentials(\n",
    "    't, rho, phi z',\n",
    "    parameter_var_string=None\n",
    ")"
   ]
  },
  {
   "cell_type": "code",
   "execution_count": 15,
   "id": "014bbcbb",
   "metadata": {},
   "outputs": [
    {
     "data": {
      "text/latex": [
       "$\\displaystyle \\left[\\begin{matrix}t\\\\\\rho\\\\\\phi\\\\z\\end{matrix}\\right]$"
      ],
      "text/plain": [
       "Matrix([\n",
       "[  t],\n",
       "[rho],\n",
       "[phi],\n",
       "[  z]])"
      ]
     },
     "execution_count": 15,
     "metadata": {},
     "output_type": "execute_result"
    }
   ],
   "source": [
    "q"
   ]
  },
  {
   "cell_type": "code",
   "execution_count": 16,
   "id": "e95504b5",
   "metadata": {},
   "outputs": [
    {
     "data": {
      "text/latex": [
       "$\\displaystyle \\left[\\begin{matrix}dt\\\\drho\\\\dphi\\\\dz\\end{matrix}\\right]$"
      ],
      "text/plain": [
       "Matrix([\n",
       "[  dt],\n",
       "[drho],\n",
       "[dphi],\n",
       "[  dz]])"
      ]
     },
     "execution_count": 16,
     "metadata": {},
     "output_type": "execute_result"
    }
   ],
   "source": [
    "dq"
   ]
  },
  {
   "cell_type": "code",
   "execution_count": 19,
   "id": "da0289d5",
   "metadata": {},
   "outputs": [
    {
     "data": {
      "text/latex": [
       "$\\displaystyle \\cos{\\left(t \\right)} J_{0}\\left(\\rho\\right)$"
      ],
      "text/plain": [
       "cos(t)*besselj(0, rho)"
      ]
     },
     "execution_count": 19,
     "metadata": {},
     "output_type": "execute_result"
    }
   ],
   "source": [
    "psi = sym.besselj(0, q[1]) * sym.cos(q[0])\n",
    "psi"
   ]
  },
  {
   "cell_type": "code",
   "execution_count": 22,
   "id": "16e68de2",
   "metadata": {},
   "outputs": [
    {
     "data": {
      "text/latex": [
       "$\\displaystyle 0.5 \\rho^{2} \\left(J^{2}_{0}\\left(\\rho\\right) + J^{2}_{1}\\left(\\rho\\right)\\right) - \\rho \\cos^{2}{\\left(t \\right)} J_{0}\\left(\\rho\\right) J_{1}\\left(\\rho\\right)$"
      ],
      "text/plain": [
       "0.5*rho**2*(besselj(0, rho)**2 + besselj(1, rho)**2) - rho*cos(t)**2*besselj(0, rho)*besselj(1, rho)"
      ]
     },
     "execution_count": 22,
     "metadata": {},
     "output_type": "execute_result"
    }
   ],
   "source": [
    "gamma = (\n",
    "    (1 / 2) * q[1] ** 2 * (sym.besselj(0, q[1]) ** 2 + sym.besselj(1, q[1]) ** 2)\n",
    "    - q[1] * sym.besselj(0, q[1]) * sym.besselj(1, q[1]) * sym.cos(q[0]) ** 2\n",
    ")\n",
    "gamma"
   ]
  },
  {
   "cell_type": "code",
   "execution_count": 25,
   "id": "dc4d740d",
   "metadata": {},
   "outputs": [
    {
     "data": {
      "text/latex": [
       "$\\displaystyle dphi^{2} \\rho^{2} e^{- 2 \\cos{\\left(t \\right)} J_{0}\\left(\\rho\\right)} + dz^{2} e^{2 \\cos{\\left(t \\right)} J_{0}\\left(\\rho\\right)} + \\left(drho^{2} - dt^{2}\\right) e^{\\rho^{2} \\left(J^{2}_{0}\\left(\\rho\\right) + J^{2}_{1}\\left(\\rho\\right)\\right) - 2 \\rho \\cos^{2}{\\left(t \\right)} J_{0}\\left(\\rho\\right) J_{1}\\left(\\rho\\right) - 2 \\cos{\\left(t \\right)} J_{0}\\left(\\rho\\right)}$"
      ],
      "text/plain": [
       "dphi**2*rho**2*exp(-2*cos(t)*besselj(0, rho)) + dz**2*exp(2*cos(t)*besselj(0, rho)) + (drho**2 - dt**2)*exp(rho**2*(besselj(0, rho)**2 + besselj(1, rho)**2) - 2*rho*cos(t)**2*besselj(0, rho)*besselj(1, rho) - 2*cos(t)*besselj(0, rho))"
      ]
     },
     "execution_count": 25,
     "metadata": {},
     "output_type": "execute_result"
    }
   ],
   "source": [
    "line_element = (\n",
    "    sym.exp(2 * gamma - 2 * psi) * (-dq[0] ** 2 + dq[1] ** 2)\n",
    "    + sym.exp(-2 * psi) * q[1] ** 2 * dq[2] ** 2\n",
    "    + sym.exp(2 * psi) * dq[3] ** 2\n",
    ")\n",
    "line_element"
   ]
  },
  {
   "cell_type": "code",
   "execution_count": 26,
   "id": "1ae1ac75",
   "metadata": {},
   "outputs": [
    {
     "data": {
      "text/latex": [
       "$\\displaystyle \\left[\\begin{matrix}- e^{\\rho^{2} J^{2}_{0}\\left(\\rho\\right)} e^{\\rho^{2} J^{2}_{1}\\left(\\rho\\right)} e^{- 2 \\cos{\\left(t \\right)} J_{0}\\left(\\rho\\right)} e^{- 2 \\rho \\cos^{2}{\\left(t \\right)} J_{0}\\left(\\rho\\right) J_{1}\\left(\\rho\\right)} & 0 & 0 & 0\\\\0 & e^{\\rho^{2} J^{2}_{0}\\left(\\rho\\right)} e^{\\rho^{2} J^{2}_{1}\\left(\\rho\\right)} e^{- 2 \\cos{\\left(t \\right)} J_{0}\\left(\\rho\\right)} e^{- 2 \\rho \\cos^{2}{\\left(t \\right)} J_{0}\\left(\\rho\\right) J_{1}\\left(\\rho\\right)} & 0 & 0\\\\0 & 0 & \\rho^{2} e^{- 2 \\cos{\\left(t \\right)} J_{0}\\left(\\rho\\right)} & 0\\\\0 & 0 & 0 & e^{2 \\cos{\\left(t \\right)} J_{0}\\left(\\rho\\right)}\\end{matrix}\\right]$"
      ],
      "text/plain": [
       "Matrix([\n",
       "[-exp(rho**2*besselj(0, rho)**2)*exp(rho**2*besselj(1, rho)**2)*exp(-2*cos(t)*besselj(0, rho))*exp(-2*rho*cos(t)**2*besselj(0, rho)*besselj(1, rho)),                                                                                                                                                  0,                                     0,                             0],\n",
       "[                                                                                                                                                  0, exp(rho**2*besselj(0, rho)**2)*exp(rho**2*besselj(1, rho)**2)*exp(-2*cos(t)*besselj(0, rho))*exp(-2*rho*cos(t)**2*besselj(0, rho)*besselj(1, rho)),                                     0,                             0],\n",
       "[                                                                                                                                                  0,                                                                                                                                                  0, rho**2*exp(-2*cos(t)*besselj(0, rho)),                             0],\n",
       "[                                                                                                                                                  0,                                                                                                                                                  0,                                     0, exp(2*cos(t)*besselj(0, rho))]])"
      ]
     },
     "execution_count": 26,
     "metadata": {},
     "output_type": "execute_result"
    }
   ],
   "source": [
    "g = line_element_to_metric_tensor(line_element, dq)\n",
    "g"
   ]
  },
  {
   "cell_type": "code",
   "execution_count": 27,
   "id": "ec2b4204",
   "metadata": {},
   "outputs": [
    {
     "data": {
      "text/latex": [
       "$\\displaystyle \\left[\\begin{matrix}- 4 \\rho e^{\\rho^{2} J^{2}_{0}\\left(\\rho\\right)} e^{\\rho^{2} J^{2}_{1}\\left(\\rho\\right)} e^{- 2 \\cos{\\left(t \\right)} J_{0}\\left(\\rho\\right)} e^{- 2 \\rho \\cos^{2}{\\left(t \\right)} J_{0}\\left(\\rho\\right) J_{1}\\left(\\rho\\right)} \\sin{\\left(t \\right)} \\cos{\\left(t \\right)} J_{0}\\left(\\rho\\right) J_{1}\\left(\\rho\\right) - 2 e^{\\rho^{2} J^{2}_{0}\\left(\\rho\\right)} e^{\\rho^{2} J^{2}_{1}\\left(\\rho\\right)} e^{- 2 \\cos{\\left(t \\right)} J_{0}\\left(\\rho\\right)} e^{- 2 \\rho \\cos^{2}{\\left(t \\right)} J_{0}\\left(\\rho\\right) J_{1}\\left(\\rho\\right)} \\sin{\\left(t \\right)} J_{0}\\left(\\rho\\right) & 0 & 0 & 0\\\\0 & 4 \\rho e^{\\rho^{2} J^{2}_{0}\\left(\\rho\\right)} e^{\\rho^{2} J^{2}_{1}\\left(\\rho\\right)} e^{- 2 \\cos{\\left(t \\right)} J_{0}\\left(\\rho\\right)} e^{- 2 \\rho \\cos^{2}{\\left(t \\right)} J_{0}\\left(\\rho\\right) J_{1}\\left(\\rho\\right)} \\sin{\\left(t \\right)} \\cos{\\left(t \\right)} J_{0}\\left(\\rho\\right) J_{1}\\left(\\rho\\right) + 2 e^{\\rho^{2} J^{2}_{0}\\left(\\rho\\right)} e^{\\rho^{2} J^{2}_{1}\\left(\\rho\\right)} e^{- 2 \\cos{\\left(t \\right)} J_{0}\\left(\\rho\\right)} e^{- 2 \\rho \\cos^{2}{\\left(t \\right)} J_{0}\\left(\\rho\\right) J_{1}\\left(\\rho\\right)} \\sin{\\left(t \\right)} J_{0}\\left(\\rho\\right) & 0 & 0\\\\0 & 0 & 2 \\rho^{2} e^{- 2 \\cos{\\left(t \\right)} J_{0}\\left(\\rho\\right)} \\sin{\\left(t \\right)} J_{0}\\left(\\rho\\right) & 0\\\\0 & 0 & 0 & - 2 e^{2 \\cos{\\left(t \\right)} J_{0}\\left(\\rho\\right)} \\sin{\\left(t \\right)} J_{0}\\left(\\rho\\right)\\end{matrix}\\right]$"
      ],
      "text/plain": [
       "Matrix([\n",
       "[-4*rho*exp(rho**2*besselj(0, rho)**2)*exp(rho**2*besselj(1, rho)**2)*exp(-2*cos(t)*besselj(0, rho))*exp(-2*rho*cos(t)**2*besselj(0, rho)*besselj(1, rho))*sin(t)*cos(t)*besselj(0, rho)*besselj(1, rho) - 2*exp(rho**2*besselj(0, rho)**2)*exp(rho**2*besselj(1, rho)**2)*exp(-2*cos(t)*besselj(0, rho))*exp(-2*rho*cos(t)**2*besselj(0, rho)*besselj(1, rho))*sin(t)*besselj(0, rho),                                                                                                                                                                                                                                                                                                                                                                                    0,                                                              0,                                                       0],\n",
       "[                                                                                                                                                                                                                                                                                                                                                                                    0, 4*rho*exp(rho**2*besselj(0, rho)**2)*exp(rho**2*besselj(1, rho)**2)*exp(-2*cos(t)*besselj(0, rho))*exp(-2*rho*cos(t)**2*besselj(0, rho)*besselj(1, rho))*sin(t)*cos(t)*besselj(0, rho)*besselj(1, rho) + 2*exp(rho**2*besselj(0, rho)**2)*exp(rho**2*besselj(1, rho)**2)*exp(-2*cos(t)*besselj(0, rho))*exp(-2*rho*cos(t)**2*besselj(0, rho)*besselj(1, rho))*sin(t)*besselj(0, rho),                                                              0,                                                       0],\n",
       "[                                                                                                                                                                                                                                                                                                                                                                                    0,                                                                                                                                                                                                                                                                                                                                                                                    0, 2*rho**2*exp(-2*cos(t)*besselj(0, rho))*sin(t)*besselj(0, rho),                                                       0],\n",
       "[                                                                                                                                                                                                                                                                                                                                                                                    0,                                                                                                                                                                                                                                                                                                                                                                                    0,                                                              0, -2*exp(2*cos(t)*besselj(0, rho))*sin(t)*besselj(0, rho)]])"
      ]
     },
     "execution_count": 27,
     "metadata": {},
     "output_type": "execute_result"
    }
   ],
   "source": [
    "sym.diff(g, q[0])"
   ]
  },
  {
   "cell_type": "code",
   "execution_count": 28,
   "id": "c00fbfbf",
   "metadata": {},
   "outputs": [
    {
     "data": {
      "text/latex": [
       "$\\displaystyle \\left[\\begin{matrix}- \\left(\\rho^{2} \\left(J_{0}\\left(\\rho\\right) - J_{2}\\left(\\rho\\right)\\right) J_{1}\\left(\\rho\\right) + 2 \\rho J^{2}_{1}\\left(\\rho\\right)\\right) e^{\\rho^{2} J^{2}_{0}\\left(\\rho\\right)} e^{\\rho^{2} J^{2}_{1}\\left(\\rho\\right)} e^{- 2 \\cos{\\left(t \\right)} J_{0}\\left(\\rho\\right)} e^{- 2 \\rho \\cos^{2}{\\left(t \\right)} J_{0}\\left(\\rho\\right) J_{1}\\left(\\rho\\right)} - \\left(- 2 \\rho^{2} J_{0}\\left(\\rho\\right) J_{1}\\left(\\rho\\right) + 2 \\rho J^{2}_{0}\\left(\\rho\\right)\\right) e^{\\rho^{2} J^{2}_{0}\\left(\\rho\\right)} e^{\\rho^{2} J^{2}_{1}\\left(\\rho\\right)} e^{- 2 \\cos{\\left(t \\right)} J_{0}\\left(\\rho\\right)} e^{- 2 \\rho \\cos^{2}{\\left(t \\right)} J_{0}\\left(\\rho\\right) J_{1}\\left(\\rho\\right)} - \\left(- 2 \\rho \\left(\\frac{J_{0}\\left(\\rho\\right)}{2} - \\frac{J_{2}\\left(\\rho\\right)}{2}\\right) \\cos^{2}{\\left(t \\right)} J_{0}\\left(\\rho\\right) + 2 \\rho \\cos^{2}{\\left(t \\right)} J^{2}_{1}\\left(\\rho\\right) - 2 \\cos^{2}{\\left(t \\right)} J_{0}\\left(\\rho\\right) J_{1}\\left(\\rho\\right)\\right) e^{\\rho^{2} J^{2}_{0}\\left(\\rho\\right)} e^{\\rho^{2} J^{2}_{1}\\left(\\rho\\right)} e^{- 2 \\cos{\\left(t \\right)} J_{0}\\left(\\rho\\right)} e^{- 2 \\rho \\cos^{2}{\\left(t \\right)} J_{0}\\left(\\rho\\right) J_{1}\\left(\\rho\\right)} - 2 e^{\\rho^{2} J^{2}_{0}\\left(\\rho\\right)} e^{\\rho^{2} J^{2}_{1}\\left(\\rho\\right)} e^{- 2 \\cos{\\left(t \\right)} J_{0}\\left(\\rho\\right)} e^{- 2 \\rho \\cos^{2}{\\left(t \\right)} J_{0}\\left(\\rho\\right) J_{1}\\left(\\rho\\right)} \\cos{\\left(t \\right)} J_{1}\\left(\\rho\\right) & 0 & 0 & 0\\\\0 & \\left(\\rho^{2} \\left(J_{0}\\left(\\rho\\right) - J_{2}\\left(\\rho\\right)\\right) J_{1}\\left(\\rho\\right) + 2 \\rho J^{2}_{1}\\left(\\rho\\right)\\right) e^{\\rho^{2} J^{2}_{0}\\left(\\rho\\right)} e^{\\rho^{2} J^{2}_{1}\\left(\\rho\\right)} e^{- 2 \\cos{\\left(t \\right)} J_{0}\\left(\\rho\\right)} e^{- 2 \\rho \\cos^{2}{\\left(t \\right)} J_{0}\\left(\\rho\\right) J_{1}\\left(\\rho\\right)} + \\left(- 2 \\rho^{2} J_{0}\\left(\\rho\\right) J_{1}\\left(\\rho\\right) + 2 \\rho J^{2}_{0}\\left(\\rho\\right)\\right) e^{\\rho^{2} J^{2}_{0}\\left(\\rho\\right)} e^{\\rho^{2} J^{2}_{1}\\left(\\rho\\right)} e^{- 2 \\cos{\\left(t \\right)} J_{0}\\left(\\rho\\right)} e^{- 2 \\rho \\cos^{2}{\\left(t \\right)} J_{0}\\left(\\rho\\right) J_{1}\\left(\\rho\\right)} + \\left(- 2 \\rho \\left(\\frac{J_{0}\\left(\\rho\\right)}{2} - \\frac{J_{2}\\left(\\rho\\right)}{2}\\right) \\cos^{2}{\\left(t \\right)} J_{0}\\left(\\rho\\right) + 2 \\rho \\cos^{2}{\\left(t \\right)} J^{2}_{1}\\left(\\rho\\right) - 2 \\cos^{2}{\\left(t \\right)} J_{0}\\left(\\rho\\right) J_{1}\\left(\\rho\\right)\\right) e^{\\rho^{2} J^{2}_{0}\\left(\\rho\\right)} e^{\\rho^{2} J^{2}_{1}\\left(\\rho\\right)} e^{- 2 \\cos{\\left(t \\right)} J_{0}\\left(\\rho\\right)} e^{- 2 \\rho \\cos^{2}{\\left(t \\right)} J_{0}\\left(\\rho\\right) J_{1}\\left(\\rho\\right)} + 2 e^{\\rho^{2} J^{2}_{0}\\left(\\rho\\right)} e^{\\rho^{2} J^{2}_{1}\\left(\\rho\\right)} e^{- 2 \\cos{\\left(t \\right)} J_{0}\\left(\\rho\\right)} e^{- 2 \\rho \\cos^{2}{\\left(t \\right)} J_{0}\\left(\\rho\\right) J_{1}\\left(\\rho\\right)} \\cos{\\left(t \\right)} J_{1}\\left(\\rho\\right) & 0 & 0\\\\0 & 0 & 2 \\rho^{2} e^{- 2 \\cos{\\left(t \\right)} J_{0}\\left(\\rho\\right)} \\cos{\\left(t \\right)} J_{1}\\left(\\rho\\right) + 2 \\rho e^{- 2 \\cos{\\left(t \\right)} J_{0}\\left(\\rho\\right)} & 0\\\\0 & 0 & 0 & - 2 e^{2 \\cos{\\left(t \\right)} J_{0}\\left(\\rho\\right)} \\cos{\\left(t \\right)} J_{1}\\left(\\rho\\right)\\end{matrix}\\right]$"
      ],
      "text/plain": [
       "Matrix([\n",
       "[-(rho**2*(besselj(0, rho) - besselj(2, rho))*besselj(1, rho) + 2*rho*besselj(1, rho)**2)*exp(rho**2*besselj(0, rho)**2)*exp(rho**2*besselj(1, rho)**2)*exp(-2*cos(t)*besselj(0, rho))*exp(-2*rho*cos(t)**2*besselj(0, rho)*besselj(1, rho)) - (-2*rho**2*besselj(0, rho)*besselj(1, rho) + 2*rho*besselj(0, rho)**2)*exp(rho**2*besselj(0, rho)**2)*exp(rho**2*besselj(1, rho)**2)*exp(-2*cos(t)*besselj(0, rho))*exp(-2*rho*cos(t)**2*besselj(0, rho)*besselj(1, rho)) - (-2*rho*(besselj(0, rho)/2 - besselj(2, rho)/2)*cos(t)**2*besselj(0, rho) + 2*rho*cos(t)**2*besselj(1, rho)**2 - 2*cos(t)**2*besselj(0, rho)*besselj(1, rho))*exp(rho**2*besselj(0, rho)**2)*exp(rho**2*besselj(1, rho)**2)*exp(-2*cos(t)*besselj(0, rho))*exp(-2*rho*cos(t)**2*besselj(0, rho)*besselj(1, rho)) - 2*exp(rho**2*besselj(0, rho)**2)*exp(rho**2*besselj(1, rho)**2)*exp(-2*cos(t)*besselj(0, rho))*exp(-2*rho*cos(t)**2*besselj(0, rho)*besselj(1, rho))*cos(t)*besselj(1, rho),                                                                                                                                                                                                                                                                                                                                                                                                                                                                                                                                                                                                                                                                                                                                                                                                                                                                                                                                                                       0,                                                                                                     0,                                                       0],\n",
       "[                                                                                                                                                                                                                                                                                                                                                                                                                                                                                                                                                                                                                                                                                                                                                                                                                                                                                                                                                                       0, (rho**2*(besselj(0, rho) - besselj(2, rho))*besselj(1, rho) + 2*rho*besselj(1, rho)**2)*exp(rho**2*besselj(0, rho)**2)*exp(rho**2*besselj(1, rho)**2)*exp(-2*cos(t)*besselj(0, rho))*exp(-2*rho*cos(t)**2*besselj(0, rho)*besselj(1, rho)) + (-2*rho**2*besselj(0, rho)*besselj(1, rho) + 2*rho*besselj(0, rho)**2)*exp(rho**2*besselj(0, rho)**2)*exp(rho**2*besselj(1, rho)**2)*exp(-2*cos(t)*besselj(0, rho))*exp(-2*rho*cos(t)**2*besselj(0, rho)*besselj(1, rho)) + (-2*rho*(besselj(0, rho)/2 - besselj(2, rho)/2)*cos(t)**2*besselj(0, rho) + 2*rho*cos(t)**2*besselj(1, rho)**2 - 2*cos(t)**2*besselj(0, rho)*besselj(1, rho))*exp(rho**2*besselj(0, rho)**2)*exp(rho**2*besselj(1, rho)**2)*exp(-2*cos(t)*besselj(0, rho))*exp(-2*rho*cos(t)**2*besselj(0, rho)*besselj(1, rho)) + 2*exp(rho**2*besselj(0, rho)**2)*exp(rho**2*besselj(1, rho)**2)*exp(-2*cos(t)*besselj(0, rho))*exp(-2*rho*cos(t)**2*besselj(0, rho)*besselj(1, rho))*cos(t)*besselj(1, rho),                                                                                                     0,                                                       0],\n",
       "[                                                                                                                                                                                                                                                                                                                                                                                                                                                                                                                                                                                                                                                                                                                                                                                                                                                                                                                                                                       0,                                                                                                                                                                                                                                                                                                                                                                                                                                                                                                                                                                                                                                                                                                                                                                                                                                                                                                                                                                       0, 2*rho**2*exp(-2*cos(t)*besselj(0, rho))*cos(t)*besselj(1, rho) + 2*rho*exp(-2*cos(t)*besselj(0, rho)),                                                       0],\n",
       "[                                                                                                                                                                                                                                                                                                                                                                                                                                                                                                                                                                                                                                                                                                                                                                                                                                                                                                                                                                       0,                                                                                                                                                                                                                                                                                                                                                                                                                                                                                                                                                                                                                                                                                                                                                                                                                                                                                                                                                                       0,                                                                                                     0, -2*exp(2*cos(t)*besselj(0, rho))*cos(t)*besselj(1, rho)]])"
      ]
     },
     "execution_count": 28,
     "metadata": {},
     "output_type": "execute_result"
    }
   ],
   "source": [
    "sym.diff(g, q[1])"
   ]
  },
  {
   "cell_type": "code",
   "execution_count": 29,
   "id": "9d9783e2",
   "metadata": {},
   "outputs": [
    {
     "data": {
      "text/latex": [
       "$\\displaystyle \\left[\\begin{matrix}0 & 0 & 0 & 0\\\\0 & 0 & 0 & 0\\\\0 & 0 & 0 & 0\\\\0 & 0 & 0 & 0\\end{matrix}\\right]$"
      ],
      "text/plain": [
       "Matrix([\n",
       "[0, 0, 0, 0],\n",
       "[0, 0, 0, 0],\n",
       "[0, 0, 0, 0],\n",
       "[0, 0, 0, 0]])"
      ]
     },
     "execution_count": 29,
     "metadata": {},
     "output_type": "execute_result"
    }
   ],
   "source": [
    "sym.diff(g, q[2])"
   ]
  },
  {
   "cell_type": "code",
   "execution_count": 30,
   "id": "c2093f90",
   "metadata": {},
   "outputs": [
    {
     "data": {
      "text/latex": [
       "$\\displaystyle \\left[\\begin{matrix}0 & 0 & 0 & 0\\\\0 & 0 & 0 & 0\\\\0 & 0 & 0 & 0\\\\0 & 0 & 0 & 0\\end{matrix}\\right]$"
      ],
      "text/plain": [
       "Matrix([\n",
       "[0, 0, 0, 0],\n",
       "[0, 0, 0, 0],\n",
       "[0, 0, 0, 0],\n",
       "[0, 0, 0, 0]])"
      ]
     },
     "execution_count": 30,
     "metadata": {},
     "output_type": "execute_result"
    }
   ],
   "source": [
    "sym.diff(g, q[3])"
   ]
  },
  {
   "cell_type": "code",
   "execution_count": 35,
   "id": "5bc1221e",
   "metadata": {},
   "outputs": [
    {
     "data": {
      "text/latex": [
       "$\\displaystyle 2 \\phi^{2} \\rho^{2} e^{- 2 \\cos{\\left(t \\right)} J_{0}\\left(\\rho\\right)} \\sin{\\left(t \\right)} J_{0}\\left(\\rho\\right) + \\rho^{2} \\left(4 \\rho e^{\\rho^{2} J^{2}_{0}\\left(\\rho\\right)} e^{\\rho^{2} J^{2}_{1}\\left(\\rho\\right)} e^{- 2 \\cos{\\left(t \\right)} J_{0}\\left(\\rho\\right)} e^{- 2 \\rho \\cos^{2}{\\left(t \\right)} J_{0}\\left(\\rho\\right) J_{1}\\left(\\rho\\right)} \\sin{\\left(t \\right)} \\cos{\\left(t \\right)} J_{0}\\left(\\rho\\right) J_{1}\\left(\\rho\\right) + 2 e^{\\rho^{2} J^{2}_{0}\\left(\\rho\\right)} e^{\\rho^{2} J^{2}_{1}\\left(\\rho\\right)} e^{- 2 \\cos{\\left(t \\right)} J_{0}\\left(\\rho\\right)} e^{- 2 \\rho \\cos^{2}{\\left(t \\right)} J_{0}\\left(\\rho\\right) J_{1}\\left(\\rho\\right)} \\sin{\\left(t \\right)} J_{0}\\left(\\rho\\right)\\right) + t^{2} \\left(- 4 \\rho e^{\\rho^{2} J^{2}_{0}\\left(\\rho\\right)} e^{\\rho^{2} J^{2}_{1}\\left(\\rho\\right)} e^{- 2 \\cos{\\left(t \\right)} J_{0}\\left(\\rho\\right)} e^{- 2 \\rho \\cos^{2}{\\left(t \\right)} J_{0}\\left(\\rho\\right) J_{1}\\left(\\rho\\right)} \\sin{\\left(t \\right)} \\cos{\\left(t \\right)} J_{0}\\left(\\rho\\right) J_{1}\\left(\\rho\\right) - 2 e^{\\rho^{2} J^{2}_{0}\\left(\\rho\\right)} e^{\\rho^{2} J^{2}_{1}\\left(\\rho\\right)} e^{- 2 \\cos{\\left(t \\right)} J_{0}\\left(\\rho\\right)} e^{- 2 \\rho \\cos^{2}{\\left(t \\right)} J_{0}\\left(\\rho\\right) J_{1}\\left(\\rho\\right)} \\sin{\\left(t \\right)} J_{0}\\left(\\rho\\right)\\right) - 2 z^{2} e^{2 \\cos{\\left(t \\right)} J_{0}\\left(\\rho\\right)} \\sin{\\left(t \\right)} J_{0}\\left(\\rho\\right)$"
      ],
      "text/plain": [
       "2*phi**2*rho**2*exp(-2*cos(t)*besselj(0, rho))*sin(t)*besselj(0, rho) + rho**2*(4*rho*exp(rho**2*besselj(0, rho)**2)*exp(rho**2*besselj(1, rho)**2)*exp(-2*cos(t)*besselj(0, rho))*exp(-2*rho*cos(t)**2*besselj(0, rho)*besselj(1, rho))*sin(t)*cos(t)*besselj(0, rho)*besselj(1, rho) + 2*exp(rho**2*besselj(0, rho)**2)*exp(rho**2*besselj(1, rho)**2)*exp(-2*cos(t)*besselj(0, rho))*exp(-2*rho*cos(t)**2*besselj(0, rho)*besselj(1, rho))*sin(t)*besselj(0, rho)) + t**2*(-4*rho*exp(rho**2*besselj(0, rho)**2)*exp(rho**2*besselj(1, rho)**2)*exp(-2*cos(t)*besselj(0, rho))*exp(-2*rho*cos(t)**2*besselj(0, rho)*besselj(1, rho))*sin(t)*cos(t)*besselj(0, rho)*besselj(1, rho) - 2*exp(rho**2*besselj(0, rho)**2)*exp(rho**2*besselj(1, rho)**2)*exp(-2*cos(t)*besselj(0, rho))*exp(-2*rho*cos(t)**2*besselj(0, rho)*besselj(1, rho))*sin(t)*besselj(0, rho)) - 2*z**2*exp(2*cos(t)*besselj(0, rho))*sin(t)*besselj(0, rho)"
      ]
     },
     "execution_count": 35,
     "metadata": {},
     "output_type": "execute_result"
    }
   ],
   "source": [
    "sym.Mul(sym.Mul(q.T, sym.diff(g, q[0])), q)[0, 0]"
   ]
  },
  {
   "cell_type": "code",
   "execution_count": null,
   "id": "50e6f767",
   "metadata": {},
   "outputs": [],
   "source": []
  }
 ],
 "metadata": {
  "kernelspec": {
   "display_name": "Python 3 (ipykernel)",
   "language": "python",
   "name": "python3"
  },
  "language_info": {
   "codemirror_mode": {
    "name": "ipython",
    "version": 3
   },
   "file_extension": ".py",
   "mimetype": "text/x-python",
   "name": "python",
   "nbconvert_exporter": "python",
   "pygments_lexer": "ipython3",
   "version": "3.8.12"
  }
 },
 "nbformat": 4,
 "nbformat_minor": 5
}
