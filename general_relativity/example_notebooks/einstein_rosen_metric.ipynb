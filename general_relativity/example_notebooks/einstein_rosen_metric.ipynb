{
 "cells": [
  {
   "cell_type": "code",
   "execution_count": 1,
   "id": "dfa41d32",
   "metadata": {},
   "outputs": [],
   "source": [
    "import os\n",
    "import sys\n",
    "\n",
    "import numpy as np\n",
    "import sympy as sym"
   ]
  },
  {
   "cell_type": "code",
   "execution_count": 2,
   "id": "d013cfe0",
   "metadata": {},
   "outputs": [],
   "source": [
    "nb_dir = os.path.split(os.getcwd())[0]\n",
    "if nb_dir not in sys.path:\n",
    "    sys.path.append(nb_dir)"
   ]
  },
  {
   "cell_type": "code",
   "execution_count": 3,
   "id": "d5a1cd71",
   "metadata": {},
   "outputs": [],
   "source": [
    "from line_element_to_metric_tensor import line_element_to_metric_tensor\n",
    "from utils.symbolic_variables import create_variables_and_differentials, create_param_variables"
   ]
  },
  {
   "cell_type": "code",
   "execution_count": 4,
   "id": "df5a6944",
   "metadata": {},
   "outputs": [],
   "source": [
    "q, dq = create_variables_and_differentials(\n",
    "    't, r, z, phi',\n",
    "    parameter_var_string=None\n",
    ")\n",
    "params_sym = create_param_variables('psi, gamma', ['t r', 't r'])"
   ]
  },
  {
   "cell_type": "code",
   "execution_count": 5,
   "id": "014bbcbb",
   "metadata": {},
   "outputs": [
    {
     "data": {
      "text/latex": [
       "$\\displaystyle \\left[\\begin{matrix}t\\\\r\\\\z\\\\\\phi\\end{matrix}\\right]$"
      ],
      "text/plain": [
       "Matrix([\n",
       "[  t],\n",
       "[  r],\n",
       "[  z],\n",
       "[phi]])"
      ]
     },
     "execution_count": 5,
     "metadata": {},
     "output_type": "execute_result"
    }
   ],
   "source": [
    "q"
   ]
  },
  {
   "cell_type": "code",
   "execution_count": 6,
   "id": "e95504b5",
   "metadata": {},
   "outputs": [
    {
     "data": {
      "text/latex": [
       "$\\displaystyle \\left[\\begin{matrix}dt\\\\dr\\\\dz\\\\dphi\\end{matrix}\\right]$"
      ],
      "text/plain": [
       "Matrix([\n",
       "[  dt],\n",
       "[  dr],\n",
       "[  dz],\n",
       "[dphi]])"
      ]
     },
     "execution_count": 6,
     "metadata": {},
     "output_type": "execute_result"
    }
   ],
   "source": [
    "dq"
   ]
  },
  {
   "cell_type": "code",
   "execution_count": 7,
   "id": "abbac778",
   "metadata": {},
   "outputs": [
    {
     "data": {
      "text/latex": [
       "$\\displaystyle \\left[\\begin{matrix}\\psi{\\left(t,r \\right)}\\\\\\gamma{\\left(t,r \\right)}\\end{matrix}\\right]$"
      ],
      "text/plain": [
       "Matrix([\n",
       "[  psi(t, r)],\n",
       "[gamma(t, r)]])"
      ]
     },
     "execution_count": 7,
     "metadata": {},
     "output_type": "execute_result"
    }
   ],
   "source": [
    "params_sym"
   ]
  },
  {
   "cell_type": "code",
   "execution_count": 8,
   "id": "dc4d740d",
   "metadata": {},
   "outputs": [
    {
     "data": {
      "text/latex": [
       "$\\displaystyle dphi^{2} r^{2} e^{- 2 \\psi{\\left(t,r \\right)}} + dz^{2} e^{2 \\psi{\\left(t,r \\right)}} - \\left(- dr^{2} + dt^{2}\\right) e^{2 \\gamma{\\left(t,r \\right)} - 2 \\psi{\\left(t,r \\right)}}$"
      ],
      "text/plain": [
       "dphi**2*r**2*exp(-2*psi(t, r)) + dz**2*exp(2*psi(t, r)) - (-dr**2 + dt**2)*exp(2*gamma(t, r) - 2*psi(t, r))"
      ]
     },
     "execution_count": 8,
     "metadata": {},
     "output_type": "execute_result"
    }
   ],
   "source": [
    "line_element = (\n",
    "    - sym.exp(2 * params_sym[1] - 2 * params_sym[0]) * (dq[0] ** 2 - dq[1] ** 2)\n",
    "    + sym.exp(2 * params_sym[0]) * dq[2] ** 2\n",
    "    + q[1] ** 2 * sym.exp(- 2 * params_sym[0]) * dq[3] ** 2\n",
    ")\n",
    "line_element"
   ]
  },
  {
   "cell_type": "code",
   "execution_count": 9,
   "id": "1ae1ac75",
   "metadata": {},
   "outputs": [
    {
     "data": {
      "text/latex": [
       "$\\displaystyle \\left[\\begin{matrix}- e^{2 \\gamma{\\left(t,r \\right)}} e^{- 2 \\psi{\\left(t,r \\right)}} & 0 & 0 & 0\\\\0 & e^{2 \\gamma{\\left(t,r \\right)}} e^{- 2 \\psi{\\left(t,r \\right)}} & 0 & 0\\\\0 & 0 & e^{2 \\psi{\\left(t,r \\right)}} & 0\\\\0 & 0 & 0 & r^{2} e^{- 2 \\psi{\\left(t,r \\right)}}\\end{matrix}\\right]$"
      ],
      "text/plain": [
       "Matrix([\n",
       "[-exp(2*gamma(t, r))*exp(-2*psi(t, r)),                                    0,                0,                      0],\n",
       "[                                    0, exp(2*gamma(t, r))*exp(-2*psi(t, r)),                0,                      0],\n",
       "[                                    0,                                    0, exp(2*psi(t, r)),                      0],\n",
       "[                                    0,                                    0,                0, r**2*exp(-2*psi(t, r))]])"
      ]
     },
     "execution_count": 9,
     "metadata": {},
     "output_type": "execute_result"
    }
   ],
   "source": [
    "g = line_element_to_metric_tensor(line_element, dq)\n",
    "g"
   ]
  },
  {
   "cell_type": "code",
   "execution_count": null,
   "id": "6c919ef1",
   "metadata": {},
   "outputs": [],
   "source": []
  }
 ],
 "metadata": {
  "kernelspec": {
   "display_name": "Python 3 (ipykernel)",
   "language": "python",
   "name": "python3"
  },
  "language_info": {
   "codemirror_mode": {
    "name": "ipython",
    "version": 3
   },
   "file_extension": ".py",
   "mimetype": "text/x-python",
   "name": "python",
   "nbconvert_exporter": "python",
   "pygments_lexer": "ipython3",
   "version": "3.8.12"
  }
 },
 "nbformat": 4,
 "nbformat_minor": 5
}
