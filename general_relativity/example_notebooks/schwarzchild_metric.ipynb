{
 "cells": [
  {
   "cell_type": "code",
   "execution_count": 1,
   "id": "78b7c12b",
   "metadata": {},
   "outputs": [],
   "source": [
    "import os\n",
    "import sys\n",
    "\n",
    "import numpy as np\n",
    "import sympy as sym"
   ]
  },
  {
   "cell_type": "code",
   "execution_count": 2,
   "id": "95406920",
   "metadata": {},
   "outputs": [],
   "source": [
    "nb_dir = os.path.split(os.getcwd())[0]\n",
    "if nb_dir not in sys.path:\n",
    "    sys.path.append(nb_dir)"
   ]
  },
  {
   "cell_type": "code",
   "execution_count": 3,
   "id": "216c7a6d",
   "metadata": {},
   "outputs": [],
   "source": [
    "from line_element_to_metric_tensor import line_element_to_metric_tensor\n",
    "from utils.symbolic_variables import create_variables_and_differentials, create_param_variables"
   ]
  },
  {
   "cell_type": "code",
   "execution_count": 4,
   "id": "a286e49e",
   "metadata": {},
   "outputs": [],
   "source": [
    "q, dq = create_variables_and_differentials(\n",
    "    't, r, theta, phi',\n",
    "    parameter_var_string=None\n",
    ")\n",
    "params_sym = create_param_variables('M')"
   ]
  },
  {
   "cell_type": "code",
   "execution_count": 5,
   "id": "7bd23ba1",
   "metadata": {},
   "outputs": [
    {
     "data": {
      "text/latex": [
       "$\\displaystyle \\left[\\begin{matrix}t\\\\r\\\\\\theta\\\\\\phi\\end{matrix}\\right]$"
      ],
      "text/plain": [
       "Matrix([\n",
       "[    t],\n",
       "[    r],\n",
       "[theta],\n",
       "[  phi]])"
      ]
     },
     "execution_count": 5,
     "metadata": {},
     "output_type": "execute_result"
    }
   ],
   "source": [
    "q"
   ]
  },
  {
   "cell_type": "code",
   "execution_count": 6,
   "id": "a27ca656",
   "metadata": {},
   "outputs": [
    {
     "data": {
      "text/latex": [
       "$\\displaystyle \\left[\\begin{matrix}dt\\\\dr\\\\dtheta\\\\dphi\\end{matrix}\\right]$"
      ],
      "text/plain": [
       "Matrix([\n",
       "[    dt],\n",
       "[    dr],\n",
       "[dtheta],\n",
       "[  dphi]])"
      ]
     },
     "execution_count": 6,
     "metadata": {},
     "output_type": "execute_result"
    }
   ],
   "source": [
    "dq"
   ]
  },
  {
   "cell_type": "code",
   "execution_count": 7,
   "id": "8e258873",
   "metadata": {},
   "outputs": [
    {
     "data": {
      "text/latex": [
       "$\\displaystyle \\left[\\begin{matrix}M\\end{matrix}\\right]$"
      ],
      "text/plain": [
       "Matrix([[M]])"
      ]
     },
     "execution_count": 7,
     "metadata": {},
     "output_type": "execute_result"
    }
   ],
   "source": [
    "params_sym"
   ]
  },
  {
   "cell_type": "code",
   "execution_count": 8,
   "id": "1ebaf267",
   "metadata": {},
   "outputs": [
    {
     "data": {
      "text/latex": [
       "$\\displaystyle - \\frac{dr^{2}}{- \\frac{2 M}{r} + 1} + dt^{2} \\left(- \\frac{2 M}{r} + 1\\right) - r^{2} \\left(dphi^{2} \\sin^{2}{\\left(\\theta \\right)} + dtheta^{2}\\right)$"
      ],
      "text/plain": [
       "-dr**2/(-2*M/r + 1) + dt**2*(-2*M/r + 1) - r**2*(dphi**2*sin(theta)**2 + dtheta**2)"
      ]
     },
     "execution_count": 8,
     "metadata": {},
     "output_type": "execute_result"
    }
   ],
   "source": [
    "line_element = (\n",
    "    (1 - 2 * params_sym[0] / q[1]) * dq[0] ** 2 \n",
    "    - (1 - 2 * params_sym[0] / q[1]) ** -1 * dq[1] ** 2 \n",
    "    - q[1] ** 2 * (dq[2] ** 2 + sym.sin(q[2]) ** 2 * dq[3] ** 2)\n",
    ")\n",
    "line_element"
   ]
  },
  {
   "cell_type": "code",
   "execution_count": 9,
   "id": "3d3e9234",
   "metadata": {},
   "outputs": [
    {
     "data": {
      "text/latex": [
       "$\\displaystyle \\left[\\begin{matrix}- \\frac{2 M}{r} + 1 & 0 & 0 & 0\\\\0 & - \\frac{1}{- \\frac{2 M}{r} + 1} & 0 & 0\\\\0 & 0 & - r^{2} & 0\\\\0 & 0 & 0 & - r^{2} \\sin^{2}{\\left(\\theta \\right)}\\end{matrix}\\right]$"
      ],
      "text/plain": [
       "Matrix([\n",
       "[-2*M/r + 1,               0,     0,                   0],\n",
       "[         0, -1/(-2*M/r + 1),     0,                   0],\n",
       "[         0,               0, -r**2,                   0],\n",
       "[         0,               0,     0, -r**2*sin(theta)**2]])"
      ]
     },
     "execution_count": 9,
     "metadata": {},
     "output_type": "execute_result"
    }
   ],
   "source": [
    "g = line_element_to_metric_tensor(line_element, dq)\n",
    "g"
   ]
  },
  {
   "cell_type": "code",
   "execution_count": null,
   "id": "1b1adf52",
   "metadata": {},
   "outputs": [],
   "source": []
  }
 ],
 "metadata": {
  "kernelspec": {
   "display_name": "Python 3 (ipykernel)",
   "language": "python",
   "name": "python3"
  },
  "language_info": {
   "codemirror_mode": {
    "name": "ipython",
    "version": 3
   },
   "file_extension": ".py",
   "mimetype": "text/x-python",
   "name": "python",
   "nbconvert_exporter": "python",
   "pygments_lexer": "ipython3",
   "version": "3.8.12"
  }
 },
 "nbformat": 4,
 "nbformat_minor": 5
}
