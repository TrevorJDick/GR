{
 "cells": [
  {
   "cell_type": "code",
   "execution_count": 1,
   "id": "75192981",
   "metadata": {},
   "outputs": [],
   "source": [
    "import os\n",
    "import sys\n",
    "\n",
    "import numpy as np\n",
    "import sympy as sym"
   ]
  },
  {
   "cell_type": "code",
   "execution_count": 2,
   "id": "70cf3e3a",
   "metadata": {},
   "outputs": [],
   "source": [
    "nb_dir = os.path.split(os.getcwd())[0]\n",
    "if nb_dir not in sys.path:\n",
    "    sys.path.append(nb_dir)"
   ]
  },
  {
   "cell_type": "code",
   "execution_count": 3,
   "id": "bcba2636",
   "metadata": {},
   "outputs": [],
   "source": [
    "from line_element_to_metric_tensor import line_element_to_metric_tensor\n",
    "from utils.symbolic_variables import create_variables_and_differentials, create_param_variables"
   ]
  },
  {
   "cell_type": "code",
   "execution_count": 4,
   "id": "e4aa558e",
   "metadata": {},
   "outputs": [],
   "source": [
    "q, dq = create_variables_and_differentials(\n",
    "    't, r, theta, phi',\n",
    "    parameter_var_string=None\n",
    ")\n",
    "params_sym = create_param_variables('M a')"
   ]
  },
  {
   "cell_type": "code",
   "execution_count": 5,
   "id": "d82ca0c2",
   "metadata": {},
   "outputs": [
    {
     "data": {
      "text/latex": [
       "$\\displaystyle \\left[\\begin{matrix}t\\\\r\\\\\\theta\\\\\\phi\\end{matrix}\\right]$"
      ],
      "text/plain": [
       "Matrix([\n",
       "[    t],\n",
       "[    r],\n",
       "[theta],\n",
       "[  phi]])"
      ]
     },
     "execution_count": 5,
     "metadata": {},
     "output_type": "execute_result"
    }
   ],
   "source": [
    "q"
   ]
  },
  {
   "cell_type": "code",
   "execution_count": 6,
   "id": "f28c6f02",
   "metadata": {},
   "outputs": [
    {
     "data": {
      "text/latex": [
       "$\\displaystyle \\left[\\begin{matrix}dt\\\\dr\\\\dtheta\\\\dphi\\end{matrix}\\right]$"
      ],
      "text/plain": [
       "Matrix([\n",
       "[    dt],\n",
       "[    dr],\n",
       "[dtheta],\n",
       "[  dphi]])"
      ]
     },
     "execution_count": 6,
     "metadata": {},
     "output_type": "execute_result"
    }
   ],
   "source": [
    "dq"
   ]
  },
  {
   "cell_type": "code",
   "execution_count": 7,
   "id": "47dbf22b",
   "metadata": {},
   "outputs": [
    {
     "data": {
      "text/latex": [
       "$\\displaystyle \\left[\\begin{matrix}M\\\\a\\end{matrix}\\right]$"
      ],
      "text/plain": [
       "Matrix([\n",
       "[M],\n",
       "[a]])"
      ]
     },
     "execution_count": 7,
     "metadata": {},
     "output_type": "execute_result"
    }
   ],
   "source": [
    "params_sym"
   ]
  },
  {
   "cell_type": "code",
   "execution_count": 8,
   "id": "6c2891ea",
   "metadata": {},
   "outputs": [
    {
     "data": {
      "text/latex": [
       "$\\displaystyle - \\frac{4 M a dphi dt r \\sin^{2}{\\left(\\theta \\right)}}{a^{2} \\cos^{2}{\\left(\\theta \\right)} + r^{2}} + dphi^{2} \\left(\\frac{2 M a^{2} r \\sin^{2}{\\left(\\theta \\right)}}{a^{2} \\cos^{2}{\\left(\\theta \\right)} + r^{2}} + a^{2} + r^{2}\\right) + \\frac{dr^{2} \\left(a^{2} \\cos^{2}{\\left(\\theta \\right)} + r^{2}\\right)}{- 2 M r + a^{2} + r^{2}} + dt^{2} \\left(\\frac{2 M r}{a^{2} \\cos^{2}{\\left(\\theta \\right)} + r^{2}} - 1\\right) + dtheta^{2} \\left(a^{2} \\cos^{2}{\\left(\\theta \\right)} + r^{2}\\right)$"
      ],
      "text/plain": [
       "-4*M*a*dphi*dt*r*sin(theta)**2/(a**2*cos(theta)**2 + r**2) + dphi**2*(2*M*a**2*r*sin(theta)**2/(a**2*cos(theta)**2 + r**2) + a**2 + r**2) + dr**2*(a**2*cos(theta)**2 + r**2)/(-2*M*r + a**2 + r**2) + dt**2*(2*M*r/(a**2*cos(theta)**2 + r**2) - 1) + dtheta**2*(a**2*cos(theta)**2 + r**2)"
      ]
     },
     "execution_count": 8,
     "metadata": {},
     "output_type": "execute_result"
    }
   ],
   "source": [
    "rs = 2 * params_sym[0]\n",
    "rho_sqrd = q[1] ** 2 + params_sym[1] ** 2 * sym.cos(q[2]) ** 2\n",
    "delta = q[1] ** 2 - rs * q[1] + params_sym[1] ** 2\n",
    "line_element = (\n",
    "    -(1 - ((rs * q[1]) / rho_sqrd)) * dq[0] ** 2\n",
    "    + rho_sqrd / delta * dq[1] ** 2\n",
    "    + rho_sqrd * dq[2] ** 2\n",
    "    + (q[1] ** 2 + params_sym[1] ** 2 + ((rs * q[1] * params_sym[1] ** 2) / rho_sqrd) * sym.sin(q[2]) ** 2) * dq[3] ** 2\n",
    "    - (2 * rs * q[1] * params_sym[1] * sym.sin(q[2]) ** 2) / rho_sqrd * dq[0] * dq[3]\n",
    ")\n",
    "line_element"
   ]
  },
  {
   "cell_type": "code",
   "execution_count": 9,
   "id": "377be28f",
   "metadata": {},
   "outputs": [
    {
     "data": {
      "text/latex": [
       "$\\displaystyle \\left[\\begin{matrix}\\frac{2 M r}{a^{2} \\cos^{2}{\\left(\\theta \\right)} + r^{2}} - 1 & 0 & 0 & - \\frac{2 M a r \\sin^{2}{\\left(\\theta \\right)}}{a^{2} \\cos^{2}{\\left(\\theta \\right)} + r^{2}}\\\\0 & \\frac{a^{2} \\cos^{2}{\\left(\\theta \\right)}}{- 2 M r + a^{2} + r^{2}} + \\frac{r^{2}}{- 2 M r + a^{2} + r^{2}} & 0 & 0\\\\0 & 0 & a^{2} \\cos^{2}{\\left(\\theta \\right)} + r^{2} & 0\\\\- \\frac{2 M a r \\sin^{2}{\\left(\\theta \\right)}}{a^{2} \\cos^{2}{\\left(\\theta \\right)} + r^{2}} & 0 & 0 & \\frac{2 M a^{2} r \\sin^{2}{\\left(\\theta \\right)}}{a^{2} \\cos^{2}{\\left(\\theta \\right)} + r^{2}} + a^{2} + r^{2}\\end{matrix}\\right]$"
      ],
      "text/plain": [
       "Matrix([\n",
       "[             2*M*r/(a**2*cos(theta)**2 + r**2) - 1,                                                                       0,                         0,                 -2*M*a*r*sin(theta)**2/(a**2*cos(theta)**2 + r**2)],\n",
       "[                                                 0, a**2*cos(theta)**2/(-2*M*r + a**2 + r**2) + r**2/(-2*M*r + a**2 + r**2),                         0,                                                                  0],\n",
       "[                                                 0,                                                                       0, a**2*cos(theta)**2 + r**2,                                                                  0],\n",
       "[-2*M*a*r*sin(theta)**2/(a**2*cos(theta)**2 + r**2),                                                                       0,                         0, 2*M*a**2*r*sin(theta)**2/(a**2*cos(theta)**2 + r**2) + a**2 + r**2]])"
      ]
     },
     "execution_count": 9,
     "metadata": {},
     "output_type": "execute_result"
    }
   ],
   "source": [
    "g = line_element_to_metric_tensor(line_element, dq)\n",
    "g"
   ]
  },
  {
   "cell_type": "code",
   "execution_count": null,
   "id": "df6f04a7",
   "metadata": {},
   "outputs": [],
   "source": []
  }
 ],
 "metadata": {
  "kernelspec": {
   "display_name": "Python 3 (ipykernel)",
   "language": "python",
   "name": "python3"
  },
  "language_info": {
   "codemirror_mode": {
    "name": "ipython",
    "version": 3
   },
   "file_extension": ".py",
   "mimetype": "text/x-python",
   "name": "python",
   "nbconvert_exporter": "python",
   "pygments_lexer": "ipython3",
   "version": "3.8.12"
  }
 },
 "nbformat": 4,
 "nbformat_minor": 5
}
